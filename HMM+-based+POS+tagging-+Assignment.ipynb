{
 "cells": [
  {
   "cell_type": "markdown",
   "metadata": {},
   "source": [
    "## POS tagging using modified Viterbi"
   ]
  },
  {
   "cell_type": "markdown",
   "metadata": {},
   "source": [
    "### Data Preparation"
   ]
  },
  {
   "cell_type": "code",
   "execution_count": 1,
   "metadata": {},
   "outputs": [],
   "source": [
    "#Importing libraries\n",
    "import nltk\n",
    "import numpy as np\n",
    "import pandas as pd\n",
    "import pprint, time\n",
    "import random\n",
    "from sklearn.model_selection import train_test_split\n",
    "from nltk.tokenize import word_tokenize\n",
    "import math\n",
    "import matplotlib.pyplot as plt\n",
    "import seaborn as sns\n",
    "# supress warnings\n",
    "import warnings\n",
    "warnings.filterwarnings('ignore')"
   ]
  },
  {
   "cell_type": "code",
   "execution_count": 2,
   "metadata": {},
   "outputs": [],
   "source": [
    "# reading the Treebank tagged sentences\n",
    "nltk_data = list(nltk.corpus.treebank.tagged_sents(tagset='universal'))"
   ]
  },
  {
   "cell_type": "code",
   "execution_count": 6,
   "metadata": {},
   "outputs": [
    {
     "data": {
      "text/plain": [
       "[[('Pierre', 'NOUN'),\n",
       "  ('Vinken', 'NOUN'),\n",
       "  (',', '.'),\n",
       "  ('61', 'NUM'),\n",
       "  ('years', 'NOUN'),\n",
       "  ('old', 'ADJ'),\n",
       "  (',', '.'),\n",
       "  ('will', 'VERB'),\n",
       "  ('join', 'VERB'),\n",
       "  ('the', 'DET'),\n",
       "  ('board', 'NOUN'),\n",
       "  ('as', 'ADP'),\n",
       "  ('a', 'DET'),\n",
       "  ('nonexecutive', 'ADJ'),\n",
       "  ('director', 'NOUN'),\n",
       "  ('Nov.', 'NOUN'),\n",
       "  ('29', 'NUM'),\n",
       "  ('.', '.')],\n",
       " [('Mr.', 'NOUN'),\n",
       "  ('Vinken', 'NOUN'),\n",
       "  ('is', 'VERB'),\n",
       "  ('chairman', 'NOUN'),\n",
       "  ('of', 'ADP'),\n",
       "  ('Elsevier', 'NOUN'),\n",
       "  ('N.V.', 'NOUN'),\n",
       "  (',', '.'),\n",
       "  ('the', 'DET'),\n",
       "  ('Dutch', 'NOUN'),\n",
       "  ('publishing', 'VERB'),\n",
       "  ('group', 'NOUN'),\n",
       "  ('.', '.')],\n",
       " [('Rudolph', 'NOUN'),\n",
       "  ('Agnew', 'NOUN'),\n",
       "  (',', '.'),\n",
       "  ('55', 'NUM'),\n",
       "  ('years', 'NOUN'),\n",
       "  ('old', 'ADJ'),\n",
       "  ('and', 'CONJ'),\n",
       "  ('former', 'ADJ'),\n",
       "  ('chairman', 'NOUN'),\n",
       "  ('of', 'ADP'),\n",
       "  ('Consolidated', 'NOUN'),\n",
       "  ('Gold', 'NOUN'),\n",
       "  ('Fields', 'NOUN'),\n",
       "  ('PLC', 'NOUN'),\n",
       "  (',', '.'),\n",
       "  ('was', 'VERB'),\n",
       "  ('named', 'VERB'),\n",
       "  ('*-1', 'X'),\n",
       "  ('a', 'DET'),\n",
       "  ('nonexecutive', 'ADJ'),\n",
       "  ('director', 'NOUN'),\n",
       "  ('of', 'ADP'),\n",
       "  ('this', 'DET'),\n",
       "  ('British', 'ADJ'),\n",
       "  ('industrial', 'ADJ'),\n",
       "  ('conglomerate', 'NOUN'),\n",
       "  ('.', '.')]]"
      ]
     },
     "execution_count": 6,
     "metadata": {},
     "output_type": "execute_result"
    }
   ],
   "source": [
    "#taking 3 sents.\n",
    "nltk_data[:3]"
   ]
  },
  {
   "cell_type": "code",
   "execution_count": null,
   "metadata": {},
   "outputs": [],
   "source": []
  },
  {
   "cell_type": "code",
   "execution_count": 7,
   "metadata": {},
   "outputs": [
    {
     "name": "stdout",
     "output_type": "stream",
     "text": [
      "100676\n"
     ]
    },
    {
     "data": {
      "text/plain": [
       "[('Pierre', 'NOUN'),\n",
       " ('Vinken', 'NOUN'),\n",
       " (',', '.'),\n",
       " ('61', 'NUM'),\n",
       " ('years', 'NOUN'),\n",
       " ('old', 'ADJ'),\n",
       " (',', '.'),\n",
       " ('will', 'VERB'),\n",
       " ('join', 'VERB'),\n",
       " ('the', 'DET')]"
      ]
     },
     "execution_count": 7,
     "metadata": {},
     "output_type": "execute_result"
    }
   ],
   "source": [
    "# converting the list of sent's to a list of (word, pos tag) tuples\n",
    "tagged_words = [tup for sent in nltk_data for tup in sent]\n",
    "print(len(tagged_words))\n",
    "tagged_words[:10]"
   ]
  },
  {
   "cell_type": "code",
   "execution_count": 8,
   "metadata": {},
   "outputs": [
    {
     "name": "stdout",
     "output_type": "stream",
     "text": [
      "3718\n",
      "196\n"
     ]
    }
   ],
   "source": [
    "#set the random seed\n",
    "random.seed(1234)\n",
    "\n",
    "#Divide the data into training and test sets\n",
    "train_set, val_set = train_test_split(nltk_data,train_size=.95)\n",
    "\n",
    "#Get the length of training and test sets\n",
    "print(len(train_set))\n",
    "print(len(val_set))"
   ]
  },
  {
   "cell_type": "code",
   "execution_count": 9,
   "metadata": {},
   "outputs": [
    {
     "data": {
      "text/plain": [
       "95403"
      ]
     },
     "execution_count": 9,
     "metadata": {},
     "output_type": "execute_result"
    }
   ],
   "source": [
    "#list of tagged words in train set\n",
    "train_tag_words = [tup for sent in train_set for tup in sent]\n",
    "#Get the length of the total tagged words in training set\n",
    "len(train_tag_words)"
   ]
  },
  {
   "cell_type": "code",
   "execution_count": 10,
   "metadata": {},
   "outputs": [
    {
     "data": {
      "text/plain": [
       "['Criminal',\n",
       " 'charges',\n",
       " '*ICH*-2',\n",
       " 'were',\n",
       " 'filed',\n",
       " '*-1',\n",
       " 'against',\n",
       " 'Diceon',\n",
       " 'Electronics',\n",
       " 'Inc.']"
      ]
     },
     "execution_count": 10,
     "metadata": {},
     "output_type": "execute_result"
    }
   ],
   "source": [
    "#looking first 10 tokens in the train set\n",
    "tokens = [pair[0] for pair in train_tag_words]\n",
    "tokens[:10]"
   ]
  },
  {
   "cell_type": "code",
   "execution_count": 11,
   "metadata": {},
   "outputs": [
    {
     "name": "stdout",
     "output_type": "stream",
     "text": [
      "12046\n"
     ]
    }
   ],
   "source": [
    "#the total unique words in the train set\n",
    "V = set(tokens)\n",
    "print(len(V))"
   ]
  },
  {
   "cell_type": "code",
   "execution_count": 12,
   "metadata": {},
   "outputs": [
    {
     "name": "stdout",
     "output_type": "stream",
     "text": [
      "12\n",
      "{'ADJ', 'ADP', 'PRT', 'VERB', 'NOUN', '.', 'ADV', 'X', 'CONJ', 'NUM', 'PRON', 'DET'}\n"
     ]
    }
   ],
   "source": [
    "#no. of pos tags in the train corpus\n",
    "T = set([pair[1] for pair in train_tag_words])\n",
    "print(len(T))\n",
    "print(T)"
   ]
  },
  {
   "cell_type": "code",
   "execution_count": 13,
   "metadata": {},
   "outputs": [],
   "source": [
    "# 12 tags which is already a part of universal tagset."
   ]
  },
  {
   "cell_type": "markdown",
   "metadata": {},
   "source": [
    "### Build the vanilla Viterbi based POS tagger"
   ]
  },
  {
   "cell_type": "code",
   "execution_count": 14,
   "metadata": {},
   "outputs": [],
   "source": [
    "# computing P(w/t) and storing in T x V matrix\n",
    "t = len(T)\n",
    "v = len(V)\n",
    "w_given_t = np.zeros((t, v))"
   ]
  },
  {
   "cell_type": "code",
   "execution_count": 15,
   "metadata": {},
   "outputs": [],
   "source": [
    "# compute word given tag: Emission Probability\n",
    "def word_given_tag(word, tag, train_bag = train_tag_words):\n",
    "    tag_list = [pair for pair in train_bag if pair[1]==tag]\n",
    "    count_tag = len(tag_list)\n",
    "    w_given_tag_list = [pair[0] for pair in tag_list if pair[0]==word]\n",
    "    count_w_given_tag = len(w_given_tag_list)\n",
    "    \n",
    "    return (count_w_given_tag, count_tag)"
   ]
  },
  {
   "cell_type": "code",
   "execution_count": 18,
   "metadata": {},
   "outputs": [
    {
     "name": "stdout",
     "output_type": "stream",
     "text": [
      "\n",
      " charges\n",
      "(0, 6027)\n",
      "(2, 12882)\n",
      "(15, 27388) \n",
      "\n"
     ]
    }
   ],
   "source": [
    "#checking emission probabilities.\n",
    "print(\"\\n\", \"charges\")\n",
    "print(word_given_tag('charges', 'ADJ'))\n",
    "print(word_given_tag('charges', 'VERB'))\n",
    "print(word_given_tag('charges', 'NOUN'), \"\\n\")"
   ]
  },
  {
   "cell_type": "code",
   "execution_count": 19,
   "metadata": {},
   "outputs": [],
   "source": [
    "# compute tag given tag: tag2(t2) given tag1 (t1), i.e. Transition Probability\n",
    "\n",
    "def t2_given_t1(t2, t1, train_bag = train_tag_words):\n",
    "    tags = [pair[1] for pair in train_bag]\n",
    "    count_t1 = len([t for t in tags if t==t1])\n",
    "    count_t2_t1 = 0\n",
    "    for index in range(len(tags)-1):\n",
    "        if tags[index]==t1 and tags[index+1] == t2:\n",
    "            count_t2_t1 += 1\n",
    "    return (count_t2_t1, count_t1)"
   ]
  },
  {
   "cell_type": "code",
   "execution_count": 21,
   "metadata": {},
   "outputs": [
    {
     "name": "stdout",
     "output_type": "stream",
     "text": [
      "(468, 6027)\n",
      "(4219, 6027)\n",
      "(5277, 8261)\n",
      "(1067, 12882)\n"
     ]
    }
   ],
   "source": [
    "#checking transition probabilities\n",
    "print(t2_given_t1(t2='ADP', t1='ADJ'))\n",
    "print(t2_given_t1('NOUN', 'ADJ'))\n",
    "print(t2_given_t1('NOUN', 'DET'))\n",
    "print(t2_given_t1('ADV', 'VERB'))"
   ]
  },
  {
   "cell_type": "code",
   "execution_count": 846,
   "metadata": {},
   "outputs": [],
   "source": [
    "# creating t x t transition matrix of tags\n",
    "# each column is t2, each row is t1\n",
    "# thus M(i, j) represents P(tj given ti)\n",
    "\n",
    "tags_matrix = np.zeros((len(T), len(T)), dtype='float32')\n",
    "for i, t1 in enumerate(list(T)):\n",
    "    for j, t2 in enumerate(list(T)): \n",
    "        tags_matrix[i, j] = t2_given_t1(t2, t1)[0]/t2_given_t1(t2, t1)[1]"
   ]
  },
  {
   "cell_type": "code",
   "execution_count": 847,
   "metadata": {},
   "outputs": [
    {
     "data": {
      "text/html": [
       "<div>\n",
       "<style scoped>\n",
       "    .dataframe tbody tr th:only-of-type {\n",
       "        vertical-align: middle;\n",
       "    }\n",
       "\n",
       "    .dataframe tbody tr th {\n",
       "        vertical-align: top;\n",
       "    }\n",
       "\n",
       "    .dataframe thead th {\n",
       "        text-align: right;\n",
       "    }\n",
       "</style>\n",
       "<table border=\"1\" class=\"dataframe\">\n",
       "  <thead>\n",
       "    <tr style=\"text-align: right;\">\n",
       "      <th></th>\n",
       "      <th>PRON</th>\n",
       "      <th>ADJ</th>\n",
       "      <th>.</th>\n",
       "      <th>NUM</th>\n",
       "      <th>NOUN</th>\n",
       "      <th>CONJ</th>\n",
       "      <th>X</th>\n",
       "      <th>DET</th>\n",
       "      <th>VERB</th>\n",
       "      <th>ADV</th>\n",
       "      <th>ADP</th>\n",
       "      <th>PRT</th>\n",
       "    </tr>\n",
       "  </thead>\n",
       "  <tbody>\n",
       "    <tr>\n",
       "      <td>PRON</td>\n",
       "      <td>0.008127</td>\n",
       "      <td>0.073142</td>\n",
       "      <td>0.040635</td>\n",
       "      <td>0.007353</td>\n",
       "      <td>0.208204</td>\n",
       "      <td>0.004644</td>\n",
       "      <td>0.094040</td>\n",
       "      <td>0.009675</td>\n",
       "      <td>0.485294</td>\n",
       "      <td>0.034056</td>\n",
       "      <td>0.022833</td>\n",
       "      <td>0.011997</td>\n",
       "    </tr>\n",
       "    <tr>\n",
       "      <td>ADJ</td>\n",
       "      <td>0.000660</td>\n",
       "      <td>0.066028</td>\n",
       "      <td>0.063717</td>\n",
       "      <td>0.020304</td>\n",
       "      <td>0.700561</td>\n",
       "      <td>0.017002</td>\n",
       "      <td>0.020634</td>\n",
       "      <td>0.004952</td>\n",
       "      <td>0.011885</td>\n",
       "      <td>0.004787</td>\n",
       "      <td>0.078244</td>\n",
       "      <td>0.011225</td>\n",
       "    </tr>\n",
       "    <tr>\n",
       "      <td>.</td>\n",
       "      <td>0.065032</td>\n",
       "      <td>0.043744</td>\n",
       "      <td>0.093057</td>\n",
       "      <td>0.080841</td>\n",
       "      <td>0.223031</td>\n",
       "      <td>0.058385</td>\n",
       "      <td>0.026498</td>\n",
       "      <td>0.174616</td>\n",
       "      <td>0.088566</td>\n",
       "      <td>0.052816</td>\n",
       "      <td>0.090901</td>\n",
       "      <td>0.002425</td>\n",
       "    </tr>\n",
       "    <tr>\n",
       "      <td>NUM</td>\n",
       "      <td>0.001485</td>\n",
       "      <td>0.032383</td>\n",
       "      <td>0.119430</td>\n",
       "      <td>0.183601</td>\n",
       "      <td>0.354427</td>\n",
       "      <td>0.013369</td>\n",
       "      <td>0.209150</td>\n",
       "      <td>0.003268</td>\n",
       "      <td>0.017528</td>\n",
       "      <td>0.002971</td>\n",
       "      <td>0.035651</td>\n",
       "      <td>0.026738</td>\n",
       "    </tr>\n",
       "    <tr>\n",
       "      <td>NOUN</td>\n",
       "      <td>0.004844</td>\n",
       "      <td>0.012164</td>\n",
       "      <td>0.239812</td>\n",
       "      <td>0.009724</td>\n",
       "      <td>0.264358</td>\n",
       "      <td>0.042827</td>\n",
       "      <td>0.029353</td>\n",
       "      <td>0.012819</td>\n",
       "      <td>0.147675</td>\n",
       "      <td>0.016825</td>\n",
       "      <td>0.175971</td>\n",
       "      <td>0.043629</td>\n",
       "    </tr>\n",
       "    <tr>\n",
       "      <td>CONJ</td>\n",
       "      <td>0.056865</td>\n",
       "      <td>0.116043</td>\n",
       "      <td>0.036523</td>\n",
       "      <td>0.041147</td>\n",
       "      <td>0.350439</td>\n",
       "      <td>0.000462</td>\n",
       "      <td>0.008784</td>\n",
       "      <td>0.119741</td>\n",
       "      <td>0.154877</td>\n",
       "      <td>0.055479</td>\n",
       "      <td>0.055016</td>\n",
       "      <td>0.004623</td>\n",
       "    </tr>\n",
       "    <tr>\n",
       "      <td>X</td>\n",
       "      <td>0.055600</td>\n",
       "      <td>0.016250</td>\n",
       "      <td>0.164410</td>\n",
       "      <td>0.002868</td>\n",
       "      <td>0.061494</td>\n",
       "      <td>0.010355</td>\n",
       "      <td>0.075195</td>\n",
       "      <td>0.055440</td>\n",
       "      <td>0.202485</td>\n",
       "      <td>0.025490</td>\n",
       "      <td>0.145770</td>\n",
       "      <td>0.184642</td>\n",
       "    </tr>\n",
       "    <tr>\n",
       "      <td>DET</td>\n",
       "      <td>0.003498</td>\n",
       "      <td>0.204800</td>\n",
       "      <td>0.017368</td>\n",
       "      <td>0.021831</td>\n",
       "      <td>0.639247</td>\n",
       "      <td>0.000362</td>\n",
       "      <td>0.045471</td>\n",
       "      <td>0.005789</td>\n",
       "      <td>0.039682</td>\n",
       "      <td>0.012182</td>\n",
       "      <td>0.009528</td>\n",
       "      <td>0.000241</td>\n",
       "    </tr>\n",
       "    <tr>\n",
       "      <td>VERB</td>\n",
       "      <td>0.035315</td>\n",
       "      <td>0.065585</td>\n",
       "      <td>0.035005</td>\n",
       "      <td>0.022586</td>\n",
       "      <td>0.110214</td>\n",
       "      <td>0.005511</td>\n",
       "      <td>0.218178</td>\n",
       "      <td>0.133188</td>\n",
       "      <td>0.168814</td>\n",
       "      <td>0.082738</td>\n",
       "      <td>0.091431</td>\n",
       "      <td>0.031434</td>\n",
       "    </tr>\n",
       "    <tr>\n",
       "      <td>ADV</td>\n",
       "      <td>0.014560</td>\n",
       "      <td>0.127399</td>\n",
       "      <td>0.135672</td>\n",
       "      <td>0.032098</td>\n",
       "      <td>0.031767</td>\n",
       "      <td>0.007280</td>\n",
       "      <td>0.023163</td>\n",
       "      <td>0.070483</td>\n",
       "      <td>0.347452</td>\n",
       "      <td>0.080079</td>\n",
       "      <td>0.116148</td>\n",
       "      <td>0.013898</td>\n",
       "    </tr>\n",
       "    <tr>\n",
       "      <td>ADP</td>\n",
       "      <td>0.068361</td>\n",
       "      <td>0.106708</td>\n",
       "      <td>0.039842</td>\n",
       "      <td>0.062807</td>\n",
       "      <td>0.322901</td>\n",
       "      <td>0.000855</td>\n",
       "      <td>0.033540</td>\n",
       "      <td>0.324824</td>\n",
       "      <td>0.008011</td>\n",
       "      <td>0.013565</td>\n",
       "      <td>0.017197</td>\n",
       "      <td>0.001389</td>\n",
       "    </tr>\n",
       "    <tr>\n",
       "      <td>PRT</td>\n",
       "      <td>0.018689</td>\n",
       "      <td>0.084918</td>\n",
       "      <td>0.042623</td>\n",
       "      <td>0.057377</td>\n",
       "      <td>0.248525</td>\n",
       "      <td>0.002295</td>\n",
       "      <td>0.013443</td>\n",
       "      <td>0.099672</td>\n",
       "      <td>0.400984</td>\n",
       "      <td>0.009508</td>\n",
       "      <td>0.020328</td>\n",
       "      <td>0.001639</td>\n",
       "    </tr>\n",
       "  </tbody>\n",
       "</table>\n",
       "</div>"
      ],
      "text/plain": [
       "          PRON       ADJ         .       NUM      NOUN      CONJ         X  \\\n",
       "PRON  0.008127  0.073142  0.040635  0.007353  0.208204  0.004644  0.094040   \n",
       "ADJ   0.000660  0.066028  0.063717  0.020304  0.700561  0.017002  0.020634   \n",
       ".     0.065032  0.043744  0.093057  0.080841  0.223031  0.058385  0.026498   \n",
       "NUM   0.001485  0.032383  0.119430  0.183601  0.354427  0.013369  0.209150   \n",
       "NOUN  0.004844  0.012164  0.239812  0.009724  0.264358  0.042827  0.029353   \n",
       "CONJ  0.056865  0.116043  0.036523  0.041147  0.350439  0.000462  0.008784   \n",
       "X     0.055600  0.016250  0.164410  0.002868  0.061494  0.010355  0.075195   \n",
       "DET   0.003498  0.204800  0.017368  0.021831  0.639247  0.000362  0.045471   \n",
       "VERB  0.035315  0.065585  0.035005  0.022586  0.110214  0.005511  0.218178   \n",
       "ADV   0.014560  0.127399  0.135672  0.032098  0.031767  0.007280  0.023163   \n",
       "ADP   0.068361  0.106708  0.039842  0.062807  0.322901  0.000855  0.033540   \n",
       "PRT   0.018689  0.084918  0.042623  0.057377  0.248525  0.002295  0.013443   \n",
       "\n",
       "           DET      VERB       ADV       ADP       PRT  \n",
       "PRON  0.009675  0.485294  0.034056  0.022833  0.011997  \n",
       "ADJ   0.004952  0.011885  0.004787  0.078244  0.011225  \n",
       ".     0.174616  0.088566  0.052816  0.090901  0.002425  \n",
       "NUM   0.003268  0.017528  0.002971  0.035651  0.026738  \n",
       "NOUN  0.012819  0.147675  0.016825  0.175971  0.043629  \n",
       "CONJ  0.119741  0.154877  0.055479  0.055016  0.004623  \n",
       "X     0.055440  0.202485  0.025490  0.145770  0.184642  \n",
       "DET   0.005789  0.039682  0.012182  0.009528  0.000241  \n",
       "VERB  0.133188  0.168814  0.082738  0.091431  0.031434  \n",
       "ADV   0.070483  0.347452  0.080079  0.116148  0.013898  \n",
       "ADP   0.324824  0.008011  0.013565  0.017197  0.001389  \n",
       "PRT   0.099672  0.400984  0.009508  0.020328  0.001639  "
      ]
     },
     "execution_count": 847,
     "metadata": {},
     "output_type": "execute_result"
    }
   ],
   "source": [
    "# convert the matrix to a df for better readability\n",
    "tags_df = pd.DataFrame(tags_matrix, columns = list(T), index=list(T))\n",
    "tags_df"
   ]
  },
  {
   "cell_type": "code",
   "execution_count": 848,
   "metadata": {},
   "outputs": [
    {
     "data": {
      "text/plain": [
       "PRON    0.065032\n",
       "ADJ     0.043744\n",
       ".       0.093057\n",
       "NUM     0.080841\n",
       "NOUN    0.223031\n",
       "CONJ    0.058385\n",
       "X       0.026498\n",
       "DET     0.174616\n",
       "VERB    0.088566\n",
       "ADV     0.052816\n",
       "ADP     0.090901\n",
       "PRT     0.002425\n",
       "Name: ., dtype: float32"
      ]
     },
     "execution_count": 848,
     "metadata": {},
     "output_type": "execute_result"
    }
   ],
   "source": [
    "tags_df.loc['.', :]"
   ]
  },
  {
   "cell_type": "code",
   "execution_count": 849,
   "metadata": {},
   "outputs": [
    {
     "data": {
      "image/png": "[encoded data removed]",
      "text/plain": [
       "<Figure size 1296x864 with 2 Axes>"
      ]
     },
     "metadata": {
      "needs_background": "light"
     },
     "output_type": "display_data"
    }
   ],
   "source": [
    "# heatmap of tags matrix\n",
    "# T(i, j) means P(tag j given tag i)\n",
    "plt.figure(figsize=(18, 12))\n",
    "sns.heatmap(tags_df)\n",
    "plt.show()\n"
   ]
  },
  {
   "cell_type": "code",
   "execution_count": 850,
   "metadata": {},
   "outputs": [
    {
     "data": {
      "image/png": "[encoded data removed]",
      "text/plain": [
       "<Figure size 1296x864 with 2 Axes>"
      ]
     },
     "metadata": {
      "needs_background": "light"
     },
     "output_type": "display_data"
    }
   ],
   "source": [
    "# frequent tags\n",
    "# filter the df to get P(t2, t1) > 0.5\n",
    "tags_frequent = tags_df[tags_df>0.5]\n",
    "plt.figure(figsize=(18, 12))\n",
    "sns.heatmap(tags_frequent)\n",
    "plt.show()"
   ]
  },
  {
   "cell_type": "code",
   "execution_count": 851,
   "metadata": {},
   "outputs": [],
   "source": [
    "# from the heat it is clearly shown (NOUN and ADJ) and (NOUN and DET) are highly correlated."
   ]
  },
  {
   "cell_type": "code",
   "execution_count": 852,
   "metadata": {},
   "outputs": [
    {
     "data": {
      "text/plain": [
       "95649"
      ]
     },
     "execution_count": 852,
     "metadata": {},
     "output_type": "execute_result"
    }
   ],
   "source": [
    "#lenght of train tag words\n",
    "len(train_tag_words)"
   ]
  },
  {
   "cell_type": "code",
   "execution_count": 853,
   "metadata": {},
   "outputs": [],
   "source": [
    "# Viterbi Heuristic\n",
    "def Viterbi(words, train_bag = train_tag_words):\n",
    "    state = []\n",
    "    T = list(set([pair[1] for pair in train_bag]))\n",
    "    \n",
    "    for key, word in enumerate(words):\n",
    "        #initialise list of probability column for a given observation\n",
    "        p = [] \n",
    "        for tag in T:\n",
    "            if key == 0:\n",
    "                transition_p = tags_df.loc['.', tag]\n",
    "            else:\n",
    "                transition_p = tags_df.loc[state[-1], tag]\n",
    "                \n",
    "            # compute emission and state probabilities\n",
    "            emission_p = word_given_tag(words[key], tag)[0]/word_given_tag(words[key], tag)[1]\n",
    "            state_probability = emission_p * transition_p    \n",
    "            p.append(state_probability)\n",
    "            \n",
    "        pmax = max(p)\n",
    "        # getting state for which probability is maximum\n",
    "        state_max = T[p.index(pmax)] \n",
    "        state.append(state_max)\n",
    "    return list(zip(words, state))\n",
    "\n"
   ]
  },
  {
   "cell_type": "code",
   "execution_count": 854,
   "metadata": {},
   "outputs": [
    {
     "data": {
      "text/plain": [
       "[[('The', 'DET'),\n",
       "  ('new', 'ADJ'),\n",
       "  ('ad', 'NOUN'),\n",
       "  ('plan', 'NOUN'),\n",
       "  ('from', 'ADP'),\n",
       "  ('Newsweek', 'NOUN'),\n",
       "  (',', '.'),\n",
       "  ('a', 'DET'),\n",
       "  ('unit', 'NOUN'),\n",
       "  ('of', 'ADP'),\n",
       "  ('the', 'DET'),\n",
       "  ('Washington', 'NOUN'),\n",
       "  ('Post', 'NOUN'),\n",
       "  ('Co.', 'NOUN'),\n",
       "  (',', '.'),\n",
       "  ('is', 'VERB'),\n",
       "  ('the', 'DET'),\n",
       "  ('second', 'ADJ'),\n",
       "  ('incentive', 'NOUN'),\n",
       "  ('plan', 'NOUN'),\n",
       "  ('0', 'X'),\n",
       "  ('the', 'DET'),\n",
       "  ('magazine', 'NOUN'),\n",
       "  ('has', 'VERB'),\n",
       "  ('offered', 'VERB'),\n",
       "  ('advertisers', 'NOUN'),\n",
       "  ('*T*-1', 'X'),\n",
       "  ('in', 'ADP'),\n",
       "  ('three', 'NUM'),\n",
       "  ('years', 'NOUN'),\n",
       "  ('.', '.')],\n",
       " [('RMS', 'NOUN'),\n",
       "  ('distributes', 'VERB'),\n",
       "  ('electronic', 'ADJ'),\n",
       "  ('devices', 'NOUN'),\n",
       "  ('and', 'CONJ'),\n",
       "  ('produces', 'VERB'),\n",
       "  ('power', 'NOUN'),\n",
       "  ('supplies', 'NOUN'),\n",
       "  ('and', 'CONJ'),\n",
       "  ('plastic', 'ADJ'),\n",
       "  ('literature', 'NOUN'),\n",
       "  ('displays', 'NOUN'),\n",
       "  ('.', '.')],\n",
       " [('Not', 'ADV'),\n",
       "  ('that', 'ADP'),\n",
       "  ('Washington', 'NOUN'),\n",
       "  ('and', 'CONJ'),\n",
       "  ('Tokyo', 'NOUN'),\n",
       "  ('disagree', 'VERB'),\n",
       "  ('on', 'ADP'),\n",
       "  ('the', 'DET'),\n",
       "  ('Japanese', 'ADJ'),\n",
       "  ('acquisitions', 'NOUN'),\n",
       "  (';', '.'),\n",
       "  ('indeed', 'ADV'),\n",
       "  (',', '.'),\n",
       "  ('each', 'DET'),\n",
       "  ('has', 'VERB'),\n",
       "  ('come', 'VERB'),\n",
       "  ('out', 'PRT'),\n",
       "  ('in', 'ADP'),\n",
       "  ('favor', 'NOUN'),\n",
       "  ('of', 'ADP'),\n",
       "  ('unfettered', 'ADJ'),\n",
       "  ('investment', 'NOUN'),\n",
       "  ('in', 'ADP'),\n",
       "  ('the', 'DET'),\n",
       "  ('U.S.', 'NOUN'),\n",
       "  ('.', '.')],\n",
       " [('First', 'ADJ'),\n",
       "  (',', '.'),\n",
       "  ('they', 'PRON'),\n",
       "  ('are', 'VERB'),\n",
       "  ('designed', 'VERB'),\n",
       "  ('*-1', 'X'),\n",
       "  ('to', 'PRT'),\n",
       "  ('eliminate', 'VERB'),\n",
       "  ('the', 'DET'),\n",
       "  ('risk', 'NOUN'),\n",
       "  ('of', 'ADP'),\n",
       "  ('prepayment', 'NOUN'),\n",
       "  ('--', '.'),\n",
       "  ('mortgage-backed', 'ADJ'),\n",
       "  ('securities', 'NOUN'),\n",
       "  ('can', 'VERB'),\n",
       "  ('be', 'VERB'),\n",
       "  ('retired', 'VERB'),\n",
       "  ('*-43', 'X'),\n",
       "  ('early', 'ADV'),\n",
       "  ('if', 'ADP'),\n",
       "  ('interest', 'NOUN'),\n",
       "  ('rates', 'NOUN'),\n",
       "  ('decline', 'VERB'),\n",
       "  (',', '.'),\n",
       "  ('and', 'CONJ'),\n",
       "  ('such', 'ADJ'),\n",
       "  ('prepayment', 'NOUN'),\n",
       "  ('forces', 'VERB'),\n",
       "  ('investors', 'NOUN'),\n",
       "  ('to', 'PRT'),\n",
       "  ('redeploy', 'VERB'),\n",
       "  ('their', 'PRON'),\n",
       "  ('money', 'NOUN'),\n",
       "  ('at', 'ADP'),\n",
       "  ('lower', 'ADJ'),\n",
       "  ('rates', 'NOUN'),\n",
       "  ('.', '.')],\n",
       " [('Indeed', 'ADV'),\n",
       "  (',', '.'),\n",
       "  ('analysts', 'NOUN'),\n",
       "  ('say', 'VERB'),\n",
       "  ('that', 'ADP'),\n",
       "  ('payouts', 'NOUN'),\n",
       "  ('have', 'VERB'),\n",
       "  ('sometimes', 'ADV'),\n",
       "  ('risen', 'VERB'),\n",
       "  ('most', 'ADV'),\n",
       "  ('sharply', 'ADV'),\n",
       "  ('when', 'ADV'),\n",
       "  ('prices', 'NOUN'),\n",
       "  ('were', 'VERB'),\n",
       "  ('already', 'ADV'),\n",
       "  ('on', 'ADP'),\n",
       "  ('their', 'PRON'),\n",
       "  ('way', 'NOUN'),\n",
       "  ('down', 'ADP'),\n",
       "  ('from', 'ADP'),\n",
       "  ('cyclical', 'ADJ'),\n",
       "  ('peaks', 'NOUN'),\n",
       "  ('*T*-1', 'X'),\n",
       "  ('.', '.')],\n",
       " [('``', '.'),\n",
       "  ('One', 'NOUN'),\n",
       "  ('says', 'VERB'),\n",
       "  ('0', 'X'),\n",
       "  ('he', 'PRON'),\n",
       "  (\"'s\", 'VERB'),\n",
       "  ('for', 'ADP'),\n",
       "  ('*', 'X'),\n",
       "  ('banning', 'VERB'),\n",
       "  ('cop-killer', 'ADJ'),\n",
       "  ('bullets', 'NOUN'),\n",
       "  ('.', '.')],\n",
       " [('Each', 'DET'),\n",
       "  ('side', 'NOUN'),\n",
       "  ('has', 'VERB'),\n",
       "  ('a', 'DET'),\n",
       "  ('litany', 'NOUN'),\n",
       "  ('of', 'ADP'),\n",
       "  ('recommendations', 'NOUN'),\n",
       "  ('for', 'ADP'),\n",
       "  ('the', 'DET'),\n",
       "  ('other', 'ADJ'),\n",
       "  ('.', '.')],\n",
       " [('``', '.'),\n",
       "  ('When', 'ADV'),\n",
       "  ('you', 'PRON'),\n",
       "  ('do', 'VERB'),\n",
       "  ('that', 'DET'),\n",
       "  ('*T*-1', 'X'),\n",
       "  (',', '.'),\n",
       "  ('there', 'DET'),\n",
       "  ('is', 'VERB'),\n",
       "  ('not', 'ADV'),\n",
       "  ('a', 'DET'),\n",
       "  ('cut', 'NOUN'),\n",
       "  (',', '.'),\n",
       "  ('but', 'CONJ'),\n",
       "  ('there', 'DET'),\n",
       "  ('is', 'VERB'),\n",
       "  ('in', 'ADP'),\n",
       "  ('fact', 'NOUN'),\n",
       "  ('a', 'DET'),\n",
       "  ('program', 'NOUN'),\n",
       "  ('increase', 'NOUN'),\n",
       "  ('of', 'ADP'),\n",
       "  ('$', '.'),\n",
       "  ('5', 'NUM'),\n",
       "  ('million', 'NUM'),\n",
       "  ('*U*', 'X'),\n",
       "  (\"''\", '.'),\n",
       "  ('each', 'DET'),\n",
       "  ('for', 'ADP'),\n",
       "  ('the', 'DET'),\n",
       "  ('FTC', 'NOUN'),\n",
       "  ('and', 'CONJ'),\n",
       "  ('the', 'DET'),\n",
       "  ('Justice', 'NOUN'),\n",
       "  ('Department', 'NOUN'),\n",
       "  (',', '.'),\n",
       "  ('Rep.', 'NOUN'),\n",
       "  ('Neal', 'NOUN'),\n",
       "  ('Smith', 'NOUN'),\n",
       "  ('-LRB-', '.'),\n",
       "  ('D.', 'NOUN'),\n",
       "  (',', '.'),\n",
       "  ('Iowa', 'NOUN'),\n",
       "  ('-RRB-', '.'),\n",
       "  ('said', 'VERB'),\n",
       "  ('0', 'X'),\n",
       "  ('*T*-2', 'X'),\n",
       "  ('during', 'ADP'),\n",
       "  ('House', 'NOUN'),\n",
       "  ('debate', 'NOUN'),\n",
       "  ('.', '.')],\n",
       " [('This', 'DET'),\n",
       "  ('is', 'VERB'),\n",
       "  ('a', 'DET'),\n",
       "  ('Johnson-era', 'NOUN'),\n",
       "  (',', '.'),\n",
       "  ('Great', 'NOUN'),\n",
       "  ('Society', 'NOUN'),\n",
       "  ('creation', 'NOUN'),\n",
       "  ('that', 'DET'),\n",
       "  ('*T*-2', 'X'),\n",
       "  ('mandates', 'VERB'),\n",
       "  ('0', 'X'),\n",
       "  ('certain', 'ADJ'),\n",
       "  ('government', 'NOUN'),\n",
       "  ('contracts', 'NOUN'),\n",
       "  ('be', 'VERB'),\n",
       "  ('awarded', 'VERB'),\n",
       "  ('*-1', 'X'),\n",
       "  ('noncompetitively', 'ADV'),\n",
       "  ('to', 'PRT'),\n",
       "  ('minority', 'NOUN'),\n",
       "  ('businesses', 'NOUN'),\n",
       "  ('.', '.')],\n",
       " [('``', '.'),\n",
       "  ('We', 'PRON'),\n",
       "  ('could', 'VERB'),\n",
       "  ('prevent', 'VERB'),\n",
       "  ('many', 'ADJ'),\n",
       "  ('of', 'ADP'),\n",
       "  ('these', 'DET'),\n",
       "  ('fatalities', 'NOUN'),\n",
       "  ('with', 'ADP'),\n",
       "  ('minimum', 'ADJ'),\n",
       "  ('roof-crush', 'ADJ'),\n",
       "  ('standards', 'NOUN'),\n",
       "  (',', '.'),\n",
       "  (\"''\", '.'),\n",
       "  ('he', 'PRON'),\n",
       "  ('said', 'VERB'),\n",
       "  ('*T*-1', 'X'),\n",
       "  ('.', '.')]]"
      ]
     },
     "execution_count": 854,
     "metadata": {},
     "output_type": "execute_result"
    }
   ],
   "source": [
    "# Running on entire test dataset would take more than 3-4hrs. \n",
    "# Let's test our Viterbi algorithm on a few sample sentences of test dataset\n",
    "\n",
    "random.seed(1234)\n",
    "\n",
    "# choose random 10 sents\n",
    "rndom = [random.randint(1,len(val_set)) for x in range(10)]# change range to 5\n",
    "\n",
    "# list of sents\n",
    "test_run = [val_set[i] for i in rndom]\n",
    "\n",
    "# list of tagged words\n",
    "test_run_base = [tup for sent in test_run for tup in sent]\n",
    "\n",
    "# list of untagged words\n",
    "test_tag_words = [tup[0] for sent in test_run for tup in sent]\n",
    "test_run\n"
   ]
  },
  {
   "cell_type": "code",
   "execution_count": 855,
   "metadata": {},
   "outputs": [],
   "source": [
    "# tagging the test sentences\n",
    "start = time.time()\n",
    "tagged_seq = Viterbi(test_tag_words)\n",
    "end = time.time()\n",
    "difference = end-start"
   ]
  },
  {
   "cell_type": "code",
   "execution_count": 856,
   "metadata": {},
   "outputs": [
    {
     "name": "stdout",
     "output_type": "stream",
     "text": [
      "84.74187111854553\n"
     ]
    }
   ],
   "source": [
    "print(difference)"
   ]
  },
  {
   "cell_type": "code",
   "execution_count": 857,
   "metadata": {},
   "outputs": [
    {
     "name": "stdout",
     "output_type": "stream",
     "text": [
      "0.9109311740890689\n"
     ]
    }
   ],
   "source": [
    "# Get accuracy of model\n",
    "#getting around 86% of accuracy with the default Viterbi algorithm.\n",
    "check = [i for i, j in zip(tagged_seq, test_run_base) if i == j] \n",
    "accuracy = len(check)/len(tagged_seq)\n",
    "print(accuracy)"
   ]
  },
  {
   "cell_type": "code",
   "execution_count": 858,
   "metadata": {},
   "outputs": [],
   "source": [
    "#check for incorrect tagged words\n",
    "incorrect_tag_cases = [[test_run_base[i-1],j] for i, j in enumerate(zip(tagged_seq, test_run_base)) if j[0]!=j[1]]"
   ]
  },
  {
   "cell_type": "code",
   "execution_count": 859,
   "metadata": {},
   "outputs": [
    {
     "data": {
      "text/plain": [
       "[[('Washington', 'NOUN'), (('Post', 'PRON'), ('Post', 'NOUN'))],\n",
       " [('RMS', 'NOUN'), (('distributes', 'PRON'), ('distributes', 'VERB'))],\n",
       " [('and', 'CONJ'), (('produces', 'PRON'), ('produces', 'VERB'))],\n",
       " [('power', 'NOUN'), (('supplies', 'VERB'), ('supplies', 'NOUN'))],\n",
       " [('plastic', 'ADJ'), (('literature', 'PRON'), ('literature', 'NOUN'))],\n",
       " [('literature', 'NOUN'), (('displays', 'PRON'), ('displays', 'NOUN'))],\n",
       " [('of', 'ADP'), (('unfettered', 'PRON'), ('unfettered', 'ADJ'))],\n",
       " [('.', '.'), (('First', 'NOUN'), ('First', 'ADJ'))],\n",
       " [('of', 'ADP'), (('prepayment', 'PRON'), ('prepayment', 'NOUN'))],\n",
       " [('rates', 'NOUN'), (('decline', 'NOUN'), ('decline', 'VERB'))],\n",
       " [('such', 'ADJ'), (('prepayment', 'PRON'), ('prepayment', 'NOUN'))],\n",
       " [('prepayment', 'NOUN'), (('forces', 'NOUN'), ('forces', 'VERB'))],\n",
       " [('to', 'PRT'), (('redeploy', 'PRON'), ('redeploy', 'VERB'))],\n",
       " [('from', 'ADP'), (('cyclical', 'PRON'), ('cyclical', 'ADJ'))],\n",
       " [('``', '.'), (('One', 'NUM'), ('One', 'NOUN'))],\n",
       " [('a', 'DET'), (('litany', 'PRON'), ('litany', 'NOUN'))],\n",
       " [('do', 'VERB'), (('that', 'ADP'), ('that', 'DET'))],\n",
       " [('a', 'DET'), (('cut', 'VERB'), ('cut', 'NOUN'))],\n",
       " [('a', 'DET'), (('Johnson-era', 'PRON'), ('Johnson-era', 'NOUN'))],\n",
       " [('creation', 'NOUN'), (('that', 'ADP'), ('that', 'DET'))],\n",
       " [('*T*-2', 'X'), (('mandates', 'PRON'), ('mandates', 'VERB'))],\n",
       " [('*-1', 'X'), (('noncompetitively', 'PRON'), ('noncompetitively', 'ADV'))]]"
      ]
     },
     "execution_count": 859,
     "metadata": {},
     "output_type": "execute_result"
    }
   ],
   "source": [
    "incorrect_tag_cases"
   ]
  },
  {
   "cell_type": "code",
   "execution_count": 860,
   "metadata": {},
   "outputs": [
    {
     "data": {
      "text/plain": [
       "22"
      ]
     },
     "execution_count": 860,
     "metadata": {},
     "output_type": "execute_result"
    }
   ],
   "source": [
    "len(incorrect_tag_cases)"
   ]
  },
  {
   "cell_type": "code",
   "execution_count": null,
   "metadata": {},
   "outputs": [],
   "source": []
  },
  {
   "cell_type": "markdown",
   "metadata": {},
   "source": [
    "### Solve the problem of unknown words"
   ]
  },
  {
   "cell_type": "code",
   "execution_count": 861,
   "metadata": {},
   "outputs": [
    {
     "name": "stdout",
     "output_type": "stream",
     "text": [
      "Android is a mobile operating system developed by Google.\r\n",
      "\n",
      "Android has been the best-selling OS worldwide on smartphones since 2011 and on tablets since 2013.\r\n",
      "\n",
      "Google and Twitter made a deal in 2015 that gave Google access to Twitter's firehose.\r\n",
      "\n",
      "Twitter is an online news and social networking service on which users post and interact with messages known as tweets.\r\n",
      "\n",
      "Before entering politics, Donald Trump was a domineering businessman and a television personality.\r\n",
      "\n",
      "The 2018 FIFA World Cup is the 21st FIFA World Cup, an international football tournament contested once every four years.\r\n",
      "\n",
      "This is the first World Cup to be held in Eastern Europe and the 11th time that it has been held in Europe.\r\n",
      "\n",
      "Show me the cheapest round trips from Dallas to Atlanta\r\n",
      "\n",
      "I would like to see flights from Denver to Philadelphia.\r\n",
      "\n",
      "Show me the price of the flights leaving Atlanta at about 3 in the afternoon and arriving in San Francisco.\r\n",
      "\n",
      "NASA invited social media users to experience the launch of ICESAT-2 Satellite.\r\n",
      "\n",
      "\r\n",
      "\n",
      "\r\n",
      "\n",
      "\r\n",
      "\n"
     ]
    }
   ],
   "source": [
    "#Read the text file using list\n",
    "import codecs\n",
    "test_line=[]\n",
    "f = codecs.open(\"Test_sentences.txt\", encoding='utf-8')\n",
    "for line in f:\n",
    "    print(line)\n",
    "    test_line.append(line)"
   ]
  },
  {
   "cell_type": "code",
   "execution_count": 862,
   "metadata": {},
   "outputs": [
    {
     "data": {
      "text/plain": [
       "['Android is a mobile operating system developed by Google.\\r\\n',\n",
       " 'Android has been the best-selling OS worldwide on smartphones since 2011 and on tablets since 2013.\\r\\n',\n",
       " \"Google and Twitter made a deal in 2015 that gave Google access to Twitter's firehose.\\r\\n\",\n",
       " 'Twitter is an online news and social networking service on which users post and interact with messages known as tweets.\\r\\n',\n",
       " 'Before entering politics, Donald Trump was a domineering businessman and a television personality.\\r\\n',\n",
       " 'The 2018 FIFA World Cup is the 21st FIFA World Cup, an international football tournament contested once every four years.\\r\\n',\n",
       " 'This is the first World Cup to be held in Eastern Europe and the 11th time that it has been held in Europe.\\r\\n',\n",
       " 'Show me the cheapest round trips from Dallas to Atlanta\\r\\n',\n",
       " 'I would like to see flights from Denver to Philadelphia.\\r\\n',\n",
       " 'Show me the price of the flights leaving Atlanta at about 3 in the afternoon and arriving in San Francisco.\\r\\n',\n",
       " 'NASA invited social media users to experience the launch of ICESAT-2 Satellite.\\r\\n',\n",
       " '\\r\\n',\n",
       " '\\r\\n',\n",
       " '\\r\\n']"
      ]
     },
     "execution_count": 862,
     "metadata": {},
     "output_type": "execute_result"
    }
   ],
   "source": [
    "#getting sample test set\n",
    "test_line"
   ]
  },
  {
   "cell_type": "code",
   "execution_count": 863,
   "metadata": {},
   "outputs": [
    {
     "data": {
      "text/plain": [
       "['Android is a mobile operating system developed by Google.',\n",
       " 'Android has been the best-selling OS worldwide on smartphones since 2011 and on tablets since 2013.',\n",
       " \"Google and Twitter made a deal in 2015 that gave Google access to Twitter's firehose.\",\n",
       " 'Twitter is an online news and social networking service on which users post and interact with messages known as tweets.',\n",
       " 'Before entering politics, Donald Trump was a domineering businessman and a television personality.',\n",
       " 'The 2018 FIFA World Cup is the 21st FIFA World Cup, an international football tournament contested once every four years.',\n",
       " 'This is the first World Cup to be held in Eastern Europe and the 11th time that it has been held in Europe.',\n",
       " 'Show me the cheapest round trips from Dallas to Atlanta',\n",
       " 'I would like to see flights from Denver to Philadelphia.',\n",
       " 'Show me the price of the flights leaving Atlanta at about 3 in the afternoon and arriving in San Francisco.',\n",
       " 'NASA invited social media users to experience the launch of ICESAT-2 Satellite.']"
      ]
     },
     "execution_count": 863,
     "metadata": {},
     "output_type": "execute_result"
    }
   ],
   "source": [
    "#Strip the special characters and empty strings in the list file\n",
    "test_string =[sent.strip() for sent in test_line if sent.strip()!='']\n",
    "test_string"
   ]
  },
  {
   "cell_type": "code",
   "execution_count": 864,
   "metadata": {},
   "outputs": [
    {
     "data": {
      "text/plain": [
       "[('Android', 'PRON'),\n",
       " ('is', 'VERB'),\n",
       " ('a', 'DET'),\n",
       " ('mobile', 'ADJ'),\n",
       " ('operating', 'NOUN'),\n",
       " ('system', 'NOUN'),\n",
       " ('developed', 'VERB'),\n",
       " ('by', 'ADP'),\n",
       " ('Google', 'PRON'),\n",
       " ('.', '.'),\n",
       " ('Android', 'PRON'),\n",
       " ('has', 'VERB'),\n",
       " ('been', 'VERB'),\n",
       " ('the', 'DET'),\n",
       " ('best-selling', 'ADJ'),\n",
       " ('OS', 'PRON'),\n",
       " ('worldwide', 'PRON'),\n",
       " ('on', 'ADP'),\n",
       " ('smartphones', 'PRON'),\n",
       " ('since', 'ADP'),\n",
       " ('2011', 'PRON'),\n",
       " ('and', 'CONJ'),\n",
       " ('on', 'ADP'),\n",
       " ('tablets', 'PRON'),\n",
       " ('since', 'ADP'),\n",
       " ('2013', 'PRON'),\n",
       " ('.', '.'),\n",
       " ('Google', 'PRON'),\n",
       " ('and', 'CONJ'),\n",
       " ('Twitter', 'PRON'),\n",
       " ('made', 'VERB'),\n",
       " ('a', 'DET'),\n",
       " ('deal', 'NOUN'),\n",
       " ('in', 'ADP'),\n",
       " ('2015', 'PRON'),\n",
       " ('that', 'ADP'),\n",
       " ('gave', 'VERB'),\n",
       " ('Google', 'PRON'),\n",
       " ('access', 'NOUN'),\n",
       " ('to', 'PRT'),\n",
       " ('Twitter', 'PRON'),\n",
       " (\"'s\", 'VERB'),\n",
       " ('firehose', 'PRON'),\n",
       " ('.', '.'),\n",
       " ('Twitter', 'PRON'),\n",
       " ('is', 'VERB'),\n",
       " ('an', 'DET'),\n",
       " ('online', 'PRON'),\n",
       " ('news', 'NOUN'),\n",
       " ('and', 'CONJ'),\n",
       " ('social', 'ADJ'),\n",
       " ('networking', 'NOUN'),\n",
       " ('service', 'NOUN'),\n",
       " ('on', 'ADP'),\n",
       " ('which', 'DET'),\n",
       " ('users', 'NOUN'),\n",
       " ('post', 'NOUN'),\n",
       " ('and', 'CONJ'),\n",
       " ('interact', 'PRON'),\n",
       " ('with', 'ADP'),\n",
       " ('messages', 'PRON'),\n",
       " ('known', 'VERB'),\n",
       " ('as', 'ADP'),\n",
       " ('tweets', 'PRON'),\n",
       " ('.', '.'),\n",
       " ('Before', 'ADP'),\n",
       " ('entering', 'VERB'),\n",
       " ('politics', 'NOUN'),\n",
       " (',', '.'),\n",
       " ('Donald', 'NOUN'),\n",
       " ('Trump', 'NOUN'),\n",
       " ('was', 'VERB'),\n",
       " ('a', 'DET'),\n",
       " ('domineering', 'PRON'),\n",
       " ('businessman', 'NOUN'),\n",
       " ('and', 'CONJ'),\n",
       " ('a', 'DET'),\n",
       " ('television', 'NOUN'),\n",
       " ('personality', 'PRON'),\n",
       " ('.', '.'),\n",
       " ('The', 'DET'),\n",
       " ('2018', 'PRON'),\n",
       " ('FIFA', 'PRON'),\n",
       " ('World', 'NOUN'),\n",
       " ('Cup', 'PRON'),\n",
       " ('is', 'VERB'),\n",
       " ('the', 'DET'),\n",
       " ('21st', 'PRON'),\n",
       " ('FIFA', 'PRON'),\n",
       " ('World', 'NOUN'),\n",
       " ('Cup', 'PRON'),\n",
       " (',', '.'),\n",
       " ('an', 'DET'),\n",
       " ('international', 'ADJ'),\n",
       " ('football', 'NOUN'),\n",
       " ('tournament', 'PRON'),\n",
       " ('contested', 'PRON'),\n",
       " ('once', 'ADV'),\n",
       " ('every', 'DET'),\n",
       " ('four', 'NUM'),\n",
       " ('years', 'NOUN'),\n",
       " ('.', '.'),\n",
       " ('This', 'DET'),\n",
       " ('is', 'VERB'),\n",
       " ('the', 'DET'),\n",
       " ('first', 'ADJ'),\n",
       " ('World', 'NOUN'),\n",
       " ('Cup', 'PRON'),\n",
       " ('to', 'PRT'),\n",
       " ('be', 'VERB'),\n",
       " ('held', 'VERB'),\n",
       " ('in', 'ADP'),\n",
       " ('Eastern', 'NOUN'),\n",
       " ('Europe', 'NOUN'),\n",
       " ('and', 'CONJ'),\n",
       " ('the', 'DET'),\n",
       " ('11th', 'ADJ'),\n",
       " ('time', 'NOUN'),\n",
       " ('that', 'ADP'),\n",
       " ('it', 'PRON'),\n",
       " ('has', 'VERB'),\n",
       " ('been', 'VERB'),\n",
       " ('held', 'VERB'),\n",
       " ('in', 'ADP'),\n",
       " ('Europe', 'NOUN'),\n",
       " ('.', '.'),\n",
       " ('Show', 'NOUN'),\n",
       " ('me', 'PRON'),\n",
       " ('the', 'DET'),\n",
       " ('cheapest', 'ADJ'),\n",
       " ('round', 'NOUN'),\n",
       " ('trips', 'PRON'),\n",
       " ('from', 'ADP'),\n",
       " ('Dallas', 'NOUN'),\n",
       " ('to', 'PRT'),\n",
       " ('Atlanta', 'NOUN'),\n",
       " ('I', 'PRON'),\n",
       " ('would', 'VERB'),\n",
       " ('like', 'ADP'),\n",
       " ('to', 'PRT'),\n",
       " ('see', 'VERB'),\n",
       " ('flights', 'NOUN'),\n",
       " ('from', 'ADP'),\n",
       " ('Denver', 'NOUN'),\n",
       " ('to', 'PRT'),\n",
       " ('Philadelphia', 'NOUN'),\n",
       " ('.', '.'),\n",
       " ('Show', 'NOUN'),\n",
       " ('me', 'PRON'),\n",
       " ('the', 'DET'),\n",
       " ('price', 'NOUN'),\n",
       " ('of', 'ADP'),\n",
       " ('the', 'DET'),\n",
       " ('flights', 'NOUN'),\n",
       " ('leaving', 'VERB'),\n",
       " ('Atlanta', 'NOUN'),\n",
       " ('at', 'ADP'),\n",
       " ('about', 'ADP'),\n",
       " ('3', 'NUM'),\n",
       " ('in', 'ADP'),\n",
       " ('the', 'DET'),\n",
       " ('afternoon', 'NOUN'),\n",
       " ('and', 'CONJ'),\n",
       " ('arriving', 'PRON'),\n",
       " ('in', 'ADP'),\n",
       " ('San', 'NOUN'),\n",
       " ('Francisco', 'NOUN'),\n",
       " ('.', '.'),\n",
       " ('NASA', 'PRON'),\n",
       " ('invited', 'PRON'),\n",
       " ('social', 'ADJ'),\n",
       " ('media', 'NOUN'),\n",
       " ('users', 'NOUN'),\n",
       " ('to', 'PRT'),\n",
       " ('experience', 'NOUN'),\n",
       " ('the', 'DET'),\n",
       " ('launch', 'NOUN'),\n",
       " ('of', 'ADP'),\n",
       " ('ICESAT-2', 'PRON'),\n",
       " ('Satellite', 'PRON'),\n",
       " ('.', '.')]"
      ]
     },
     "execution_count": 864,
     "metadata": {},
     "output_type": "execute_result"
    }
   ],
   "source": [
    "# predictions on the test sentences\n",
    "sample_pred_list =[]\n",
    "for line in test_string:\n",
    "    sample_pred_list=sample_pred_list+list(Viterbi(word_tokenize(line)))\n",
    "sample_pred_list"
   ]
  },
  {
   "cell_type": "code",
   "execution_count": 865,
   "metadata": {},
   "outputs": [],
   "source": [
    "#from above text sentence there are words that is incorrectly by POS tags."
   ]
  },
  {
   "cell_type": "code",
   "execution_count": 866,
   "metadata": {},
   "outputs": [],
   "source": [
    "#the tokens in the test file\n",
    "sample_words=[tokens for line in test_string for tokens in word_tokenize(line)]"
   ]
  },
  {
   "cell_type": "code",
   "execution_count": 867,
   "metadata": {},
   "outputs": [
    {
     "data": {
      "text/plain": [
       "['OS',\n",
       " 'Google',\n",
       " 'Android',\n",
       " 'NASA',\n",
       " 'online',\n",
       " 'Cup',\n",
       " 'interact',\n",
       " 'arriving',\n",
       " 'smartphones',\n",
       " 'Twitter',\n",
       " 'personality',\n",
       " 'worldwide',\n",
       " 'firehose',\n",
       " 'ICESAT-2',\n",
       " 'tournament',\n",
       " 'Satellite',\n",
       " '21st',\n",
       " 'domineering',\n",
       " 'invited',\n",
       " 'trips',\n",
       " 'contested',\n",
       " '2018',\n",
       " 'messages',\n",
       " 'tweets',\n",
       " '2011',\n",
       " '2015',\n",
       " '2013',\n",
       " 'tablets',\n",
       " 'FIFA']"
      ]
     },
     "execution_count": 867,
     "metadata": {},
     "output_type": "execute_result"
    }
   ],
   "source": [
    "#list of words which are present in test lines but not in the training corpus\n",
    "words_not_in_corpus = list(set(sample_words) - set(tokens))\n",
    "words_not_in_corpus\n"
   ]
  },
  {
   "cell_type": "code",
   "execution_count": 868,
   "metadata": {},
   "outputs": [
    {
     "data": {
      "text/plain": [
       "29"
      ]
     },
     "execution_count": 868,
     "metadata": {},
     "output_type": "execute_result"
    }
   ],
   "source": [
    "len(words_not_in_corpus)"
   ]
  },
  {
   "cell_type": "code",
   "execution_count": 869,
   "metadata": {},
   "outputs": [
    {
     "data": {
      "text/plain": [
       "[('Android', 'PRON'),\n",
       " ('Google', 'PRON'),\n",
       " ('Android', 'PRON'),\n",
       " ('OS', 'PRON'),\n",
       " ('worldwide', 'PRON'),\n",
       " ('smartphones', 'PRON'),\n",
       " ('2011', 'PRON'),\n",
       " ('tablets', 'PRON'),\n",
       " ('2013', 'PRON'),\n",
       " ('Google', 'PRON'),\n",
       " ('Twitter', 'PRON'),\n",
       " ('2015', 'PRON'),\n",
       " ('Google', 'PRON'),\n",
       " ('Twitter', 'PRON'),\n",
       " ('firehose', 'PRON'),\n",
       " ('Twitter', 'PRON'),\n",
       " ('online', 'PRON'),\n",
       " ('interact', 'PRON'),\n",
       " ('messages', 'PRON'),\n",
       " ('tweets', 'PRON'),\n",
       " ('domineering', 'PRON'),\n",
       " ('personality', 'PRON'),\n",
       " ('2018', 'PRON'),\n",
       " ('FIFA', 'PRON'),\n",
       " ('Cup', 'PRON'),\n",
       " ('21st', 'PRON'),\n",
       " ('FIFA', 'PRON'),\n",
       " ('Cup', 'PRON'),\n",
       " ('tournament', 'PRON'),\n",
       " ('contested', 'PRON'),\n",
       " ('Cup', 'PRON'),\n",
       " ('trips', 'PRON'),\n",
       " ('arriving', 'PRON'),\n",
       " ('NASA', 'PRON'),\n",
       " ('invited', 'PRON'),\n",
       " ('ICESAT-2', 'PRON'),\n",
       " ('Satellite', 'PRON')]"
      ]
     },
     "execution_count": 869,
     "metadata": {},
     "output_type": "execute_result"
    }
   ],
   "source": [
    "#the tags predicted for unknown words\n",
    "[tup for tup in sample_pred_list for word in words_not_in_corpus if tup[0]==word ]"
   ]
  },
  {
   "cell_type": "code",
   "execution_count": 870,
   "metadata": {},
   "outputs": [
    {
     "data": {
      "text/plain": [
       "Counter({'NOUN': 27459,\n",
       "         'VERB': 12884,\n",
       "         'PRT': 3050,\n",
       "         'DET': 8291,\n",
       "         '.': 11133,\n",
       "         'ADJ': 6058,\n",
       "         'ADP': 9362,\n",
       "         'X': 6277,\n",
       "         'CONJ': 2163,\n",
       "         'PRON': 2584,\n",
       "         'ADV': 3022,\n",
       "         'NUM': 3366})"
      ]
     },
     "execution_count": 870,
     "metadata": {},
     "output_type": "execute_result"
    }
   ],
   "source": [
    "#Let's count of all tags in the training set\n",
    "from collections import Counter\n",
    "tag_counts = Counter(pair[1] for pair in train_tag_words)\n",
    "tag_counts"
   ]
  },
  {
   "cell_type": "code",
   "execution_count": 871,
   "metadata": {},
   "outputs": [
    {
     "data": {
      "text/plain": [
       "[('NOUN', 27459), ('VERB', 12884), ('.', 11133), ('ADP', 9362), ('DET', 8291)]"
      ]
     },
     "execution_count": 871,
     "metadata": {},
     "output_type": "execute_result"
    }
   ],
   "source": [
    "# the most common tags can in the training corpus\n",
    "tag_counts.most_common(5)"
   ]
  },
  {
   "cell_type": "code",
   "execution_count": 872,
   "metadata": {},
   "outputs": [
    {
     "data": {
      "text/plain": [
       "Counter({'NOUN': 7,\n",
       "         'CONJ': 1,\n",
       "         'ADJ': 2,\n",
       "         'ADP': 3,\n",
       "         '.': 2,\n",
       "         'PRT': 1,\n",
       "         'DET': 3,\n",
       "         'VERB': 1,\n",
       "         'X': 2})"
      ]
     },
     "execution_count": 872,
     "metadata": {},
     "output_type": "execute_result"
    }
   ],
   "source": [
    "#Lets count the incorrectly classfied words for each tag\n",
    "incorrect_tag_counts = Counter(pair[0][1] for pair in incorrect_tag_cases)\n",
    "incorrect_tag_counts"
   ]
  },
  {
   "cell_type": "code",
   "execution_count": 873,
   "metadata": {},
   "outputs": [
    {
     "name": "stdout",
     "output_type": "stream",
     "text": [
      "0.20700093138776776\n"
     ]
    },
    {
     "data": {
      "text/plain": [
       "[('contributed', 'VERB'),\n",
       " ('produced', 'VERB'),\n",
       " ('received', 'VERB'),\n",
       " ('disclosed', 'VERB'),\n",
       " ('offered', 'VERB'),\n",
       " ('listed', 'VERB'),\n",
       " ('expected', 'VERB'),\n",
       " ('anticipated', 'VERB'),\n",
       " ('scheduled', 'VERB'),\n",
       " ('firmed', 'VERB'),\n",
       " ('faltered', 'VERB'),\n",
       " ('priced', 'VERB'),\n",
       " ('priced', 'VERB'),\n",
       " ('hampered', 'VERB'),\n",
       " ('closed', 'VERB'),\n",
       " ('expected', 'VERB'),\n",
       " ('negotiated', 'VERB'),\n",
       " ('followed', 'VERB'),\n",
       " ('discussed', 'VERB'),\n",
       " ('polarized', 'VERB')]"
      ]
     },
     "execution_count": 873,
     "metadata": {},
     "output_type": "execute_result"
    }
   ],
   "source": [
    "# Let check the percentage of verbs which are classifed as 'VERB' which end with 'ed'\n",
    "#how many words with the tag 'VERB' (verb, past tense) ends with 'ed'\n",
    "past_tense_verbs = [pair for pair in train_tag_words if pair[1]=='VERB']\n",
    "ed_verbs = [pair for pair in past_tense_verbs if pair[0].endswith('ed')]\n",
    "print(len(ed_verbs) / len(past_tense_verbs))\n",
    "ed_verbs[:20]"
   ]
  },
  {
   "cell_type": "code",
   "execution_count": 874,
   "metadata": {},
   "outputs": [],
   "source": [
    "# around 20% of words which ends with 'ed' are verb."
   ]
  },
  {
   "cell_type": "code",
   "execution_count": 875,
   "metadata": {},
   "outputs": [
    {
     "name": "stdout",
     "output_type": "stream",
     "text": [
      "0.10734244023595156\n"
     ]
    },
    {
     "data": {
      "text/plain": [
       "[('according', 'VERB'),\n",
       " ('softening', 'VERB'),\n",
       " ('working', 'VERB'),\n",
       " ('proving', 'VERB'),\n",
       " ('lying', 'VERB'),\n",
       " ('acknowledging', 'VERB'),\n",
       " ('going', 'VERB'),\n",
       " ('increasing', 'VERB'),\n",
       " ('Performing', 'VERB'),\n",
       " ('becoming', 'VERB'),\n",
       " ('having', 'VERB'),\n",
       " ('encroaching', 'VERB'),\n",
       " ('choosing', 'VERB'),\n",
       " ('according', 'VERB'),\n",
       " ('finding', 'VERB'),\n",
       " ('addressing', 'VERB'),\n",
       " ('yielding', 'VERB'),\n",
       " ('enjoying', 'VERB'),\n",
       " ('being', 'VERB'),\n",
       " ('redeeming', 'VERB')]"
      ]
     },
     "execution_count": 875,
     "metadata": {},
     "output_type": "execute_result"
    }
   ],
   "source": [
    "# Let check the percentage of verbs which are classifed as 'VERB' which end with 'ing'\n",
    "#how many words with the tag 'VERB' ends with 'ing'\n",
    "participle_verbs = [pair for pair in train_tag_words if pair[1]=='VERB']\n",
    "ing_verbs = [pair for pair in participle_verbs if pair[0].endswith('ing')]\n",
    "print(len(ing_verbs) / len(participle_verbs))\n",
    "ing_verbs[:20]"
   ]
  },
  {
   "cell_type": "code",
   "execution_count": 876,
   "metadata": {},
   "outputs": [],
   "source": [
    "#around 10% of words which are ends with 'ing' are verbs."
   ]
  },
  {
   "cell_type": "code",
   "execution_count": 877,
   "metadata": {},
   "outputs": [
    {
     "name": "stdout",
     "output_type": "stream",
     "text": [
      "6058\n",
      "4244\n",
      "0.7005612413337735\n"
     ]
    }
   ],
   "source": [
    "#Lets check the percentage of Adjective tags followed by NOUNS\n",
    "# create a list of all tags (without the words)\n",
    "tags = [pair[1] for pair in train_tag_words]\n",
    "\n",
    "# create a list of Adj tags\n",
    "adj_tags = [t for t in tags if t == 'ADJ']\n",
    "\n",
    "# create a list of (ADJ, Noun) tags\n",
    "adj_nn_tags = [(t, tags[index+1]) for index, t in enumerate(tags) \n",
    "              if t=='ADJ' and tags[index+1]=='NOUN']\n",
    "\n",
    "print(len(adj_tags))\n",
    "print(len(adj_nn_tags))\n",
    "print(len(adj_nn_tags) / len(adj_tags))"
   ]
  },
  {
   "cell_type": "code",
   "execution_count": 878,
   "metadata": {},
   "outputs": [],
   "source": [
    "#around 70% of adj's are followed by noun's."
   ]
  },
  {
   "cell_type": "code",
   "execution_count": 879,
   "metadata": {},
   "outputs": [
    {
     "name": "stdout",
     "output_type": "stream",
     "text": [
      "8291\n",
      "5300\n",
      "0.6392473766735014\n"
     ]
    }
   ],
   "source": [
    "#Lets check the percentage of Determinent tags followed by NOUN's\n",
    "dt_tags = [t for t in tags if t == 'DET']\n",
    "dt_nn_tags = [(t, tags[index+1]) for index, t in enumerate(tags) \n",
    "              if t=='DET' and tags[index+1]=='NOUN']\n",
    "\n",
    "print(len(dt_tags))\n",
    "print(len(dt_nn_tags))\n",
    "print(len(dt_nn_tags) / len(dt_tags))"
   ]
  },
  {
   "cell_type": "code",
   "execution_count": 880,
   "metadata": {},
   "outputs": [],
   "source": [
    "#around 64% of det's followed by noun'd"
   ]
  },
  {
   "cell_type": "code",
   "execution_count": 881,
   "metadata": {},
   "outputs": [
    {
     "name": "stdout",
     "output_type": "stream",
     "text": [
      "3022\n",
      "1050\n",
      "0.34745201853077434\n"
     ]
    }
   ],
   "source": [
    "#Lets check the percentage of Adverbs tags followed by VERB's\n",
    "md_tags = [t for t in tags if t == 'ADV']\n",
    "md_vb_tags = [(t, tags[index+1]) for index, t in enumerate(tags) \n",
    "              if t=='ADV' and tags[index+1]=='VERB']\n",
    "\n",
    "print(len(md_tags))\n",
    "print(len(md_vb_tags))\n",
    "print(len(md_vb_tags) / len(md_tags))"
   ]
  },
  {
   "cell_type": "code",
   "execution_count": 882,
   "metadata": {},
   "outputs": [],
   "source": [
    "#around 34% of adverb's are followed by verb's."
   ]
  },
  {
   "cell_type": "markdown",
   "metadata": {},
   "source": [
    "### 1. Combining viterbi with n-gram tagging using BrillTagger"
   ]
  },
  {
   "cell_type": "code",
   "execution_count": 883,
   "metadata": {},
   "outputs": [],
   "source": [
    "# specify Rule-Based regex patterns for tagging\n",
    "\n",
    "patterns = [\n",
    "    (r'.*ing$', 'VERB'),              # gerund\n",
    "    (r'.*ed$', 'VERB'),               # past tense verbs\n",
    "    (r'.*es$', 'VERB'),               # singular present verbs\n",
    "    (r'.*ould$', 'VERB'),             # modal verbs\n",
    "    (r'.*\\'s$', 'NOUN'),              # possessive nouns\n",
    "    (r'.*s$', 'NOUN'),                # plural nouns\n",
    "    (r'^-?[0-9]+(.[0-9]+)?$', 'NUM'), # cardinal numbers\n",
    "    (r'(The|the|A|a|An|an)$', 'DET'), # articles or determinants\n",
    "    (r'.*able$', 'ADJ'),              # adjectives\n",
    "    (r'.*ness$', 'NOUN'),             # nouns formed from adjectives\n",
    "    (r'.*ly$', 'ADV'),                # adverbs\n",
    "    (r'.*', 'NOUN')                   # nouns\n",
    "]\n",
    "    "
   ]
  },
  {
   "cell_type": "code",
   "execution_count": 884,
   "metadata": {},
   "outputs": [
    {
     "data": {
      "text/plain": [
       "0.9443007758106227"
      ]
     },
     "execution_count": 884,
     "metadata": {},
     "output_type": "execute_result"
    }
   ],
   "source": [
    "# rule based Unigram tagger\n",
    "rule_based_tagger = nltk.RegexpTagger(patterns)\n",
    "\n",
    "# lexicon backed up by the rule-based tagger\n",
    "lexicon_tagger = nltk.UnigramTagger(train_set, backoff=rule_based_tagger)\n",
    "#prediction on test set\n",
    "lexicon_tagger.evaluate(val_set)"
   ]
  },
  {
   "cell_type": "code",
   "execution_count": 885,
   "metadata": {},
   "outputs": [
    {
     "data": {
      "text/plain": [
       "0.9488760692261786"
      ]
     },
     "execution_count": 885,
     "metadata": {},
     "output_type": "execute_result"
    }
   ],
   "source": [
    "# rule based Bigram tagger\n",
    "#bigram_tagger = nltk.RegexpTagger(patterns)\n",
    "\n",
    "# lexicon backed up by the rule-based tagger\n",
    "lexicon_tagger2 = nltk.BigramTagger(train_set, backoff=lexicon_tagger)\n",
    "#evaluation on test set\n",
    "lexicon_tagger2.evaluate(val_set)"
   ]
  },
  {
   "cell_type": "code",
   "execution_count": 886,
   "metadata": {},
   "outputs": [
    {
     "data": {
      "text/plain": [
       "0.9476825144221206"
      ]
     },
     "execution_count": 886,
     "metadata": {},
     "output_type": "execute_result"
    }
   ],
   "source": [
    "# rule based Trigram tagger\n",
    "#trigram_tagger = nltk.RegexpTagger(patterns)\n",
    "\n",
    "# lexicon backed up by the rule-based tagger\n",
    "lexicon_tagger3 = nltk.TrigramTagger(train_set, backoff=lexicon_tagger2)\n",
    "#evaluation on test set\n",
    "lexicon_tagger3.evaluate(val_set)"
   ]
  },
  {
   "cell_type": "code",
   "execution_count": 887,
   "metadata": {},
   "outputs": [],
   "source": [
    "#https://www.nltk.org/book/ch03.html\n",
    "#http://www.nltk.org/book_1ed/ch05.html\n",
    "#Trigram(t3) tagger backed by Bigram(t2) backed by Unigram(t1) which is backed by rule based tagger(t0)\n",
    "t0 = nltk.RegexpTagger(patterns)\n",
    "t1 = nltk.UnigramTagger(train_set, backoff=t0)\n",
    "t2 = nltk.BigramTagger(train_set, backoff=t1)\n",
    "t3 = nltk.TrigramTagger(train_set, backoff=t2)"
   ]
  },
  {
   "cell_type": "code",
   "execution_count": 888,
   "metadata": {},
   "outputs": [],
   "source": [
    "# if unknown word is the first word of a sentence, use unigram probability\n",
    "# if unknown word is the second word of a sentence, use bigram probability\n",
    "# if unknown word is present in any other position of a sentence, use trigram probability"
   ]
  },
  {
   "cell_type": "code",
   "execution_count": 889,
   "metadata": {},
   "outputs": [],
   "source": [
    "#BrillTagger Implementation\n",
    "#https://docs.huihoo.com/nltk/0.9.5/api/nltk.tag.brill.BrillTaggerTrainer-class.html\n",
    "#https://docs.huihoo.com/nltk/0.9.5/api/nltk.tag.api.TaggerI-class.html#tag\n",
    "#https://stackoverflow.com/questions/32106090/nltk-brill-tagger-splitting-words"
   ]
  },
  {
   "cell_type": "markdown",
   "metadata": {},
   "source": [
    "#### Evaluating tagging accuracy"
   ]
  },
  {
   "cell_type": "code",
   "execution_count": 890,
   "metadata": {},
   "outputs": [],
   "source": [
    "#https://streamhacker.com/2008/12/03/part-of-speech-tagging-with-nltk-part-3/\n",
    "#https://www.nltk.org/_modules/nltk/tag/brill_trainer.html\n",
    "#http://www.nltk.org/_modules/nltk/tag/brill_trainer_orig.html\n",
    "#https://www.nltk.org/api/nltk.tag.html\n",
    "#Import libraries for brill\n",
    "import nltk.tag\n",
    "from nltk.tag import brill\n",
    "from nltk.tag.brill import *\n",
    "from nltk.tbl.template import Template\n",
    "from nltk.tag import BrillTaggerTrainer\n",
    "\n",
    "#Clear templates created in earlier tests\n",
    "Template._cleartemplates()\n",
    "\n",
    "#Return 37 templates taken from the pos tagging task of the fntbl distribution\n",
    "templates = fntbl37()\n",
    " \n",
    "#Train the Brill model using trigram state(t3)\n",
    "trainer = BrillTaggerTrainer(t3, templates)\n",
    "brill_tagger = trainer.train(train_set, max_rules=100, min_score=3)\n"
   ]
  },
  {
   "cell_type": "markdown",
   "metadata": {},
   "source": [
    "Brill tagging is a kind of transformation-based learning. The general idea is very simple: guess the tag of each word, then go back and fix the mistakes. In this way, a Brill tagger successively transforms a bad tagging of a text into a better one. As with n-gram tagging, this is a supervised learning method, since we need annotated training data to figure out whether the tagger's guess is a mistake or not. However, unlike n-gram tagging, it does not count observations but compiles a list of transformational correction rules.\n",
    "- The state probabilities for unknown words become zero and hence the Viterbi algorithm updates the unknown words by default with the first tag in the training set."
   ]
  },
  {
   "cell_type": "code",
   "execution_count": 891,
   "metadata": {},
   "outputs": [],
   "source": [
    "# Viterbi Heuristic\n",
    "def Viterbi_updated(words, train_bag = train_tag_words):\n",
    "    state = []\n",
    "    T = list(set([pair[1] for pair in train_bag]))\n",
    "    \n",
    "    for key, word in enumerate(words):\n",
    "        #initialise list of probability column for a given observation\n",
    "        p = [] \n",
    "        for tag in T:\n",
    "            if key == 0:\n",
    "                transition_p = tags_df.loc['.', tag]\n",
    "            else:\n",
    "                transition_p = tags_df.loc[state[-1], tag]\n",
    "                \n",
    "            # compute emission and state probabilities\n",
    "            emission_p = word_given_tag(words[key], tag)[0]/word_given_tag(words[key], tag)[1]\n",
    "            state_probability = emission_p * transition_p    \n",
    "            p.append(state_probability)\n",
    "            \n",
    "        pmax = max(p)\n",
    "       \n",
    "        #Check if state probability is zero\n",
    "        if(pmax==0.0):\n",
    "            #If state probability is zero i.e if the word is unknown it updates the tag based on the brill tagger\n",
    "            state_max = brill_tagger.tag([word])[0][1]\n",
    "        else:\n",
    "            # getting state for which probability is maximum\n",
    "            state_max = T[p.index(pmax)] \n",
    "        state.append(state_max)\n",
    "    return list(zip(words, state))"
   ]
  },
  {
   "cell_type": "code",
   "execution_count": 892,
   "metadata": {},
   "outputs": [],
   "source": [
    "# validation_set\n",
    "# Let's test our Viterbi algorithm on a few sample sentences of validation set\n",
    "random.seed(1234)\n",
    "\n",
    "# choose random 10 sents\n",
    "rndom1 = [random.randint(1,len(val_set)) for x in range(10)]#change range to 5\n",
    "\n",
    "# list of sents\n",
    "test_run1 = [val_set[i] for i in rndom]\n",
    "\n",
    "# list of tagged words\n",
    "test_run_base1 = [tup for sent in test_run1 for tup in sent]\n",
    "\n",
    "# list of untagged words\n",
    "test_tag_words1 = [tup[0] for sent in test_run1 for tup in sent]"
   ]
  },
  {
   "cell_type": "markdown",
   "metadata": {},
   "source": [
    "### Compare the tagging accuracies of the modifications with the vanilla Viterbi algorithm"
   ]
  },
  {
   "cell_type": "code",
   "execution_count": 893,
   "metadata": {},
   "outputs": [
    {
     "name": "stdout",
     "output_type": "stream",
     "text": [
      "93.31787919998169\n"
     ]
    }
   ],
   "source": [
    "#checking the test sentences with the updated Viterbi algorithm\n",
    "start = time.time()\n",
    "updated_tagged_seq1 = Viterbi_updated(test_tag_words1)\n",
    "end = time.time()\n",
    "difference = end-start\n",
    "#Print total time taken to train the algorithm\n",
    "print(difference)"
   ]
  },
  {
   "cell_type": "code",
   "execution_count": 894,
   "metadata": {},
   "outputs": [
    {
     "data": {
      "text/plain": [
       "0.9554655870445344"
      ]
     },
     "execution_count": 894,
     "metadata": {},
     "output_type": "execute_result"
    }
   ],
   "source": [
    "# Checking the accuracy of the updated Viterbi algorithm\n",
    "check = [i for i, j in zip(updated_tagged_seq1, test_run_base1) if i == j] \n",
    "accuracy = len(check)/len(updated_tagged_seq1)\n",
    "accuracy"
   ]
  },
  {
   "cell_type": "code",
   "execution_count": null,
   "metadata": {},
   "outputs": [],
   "source": []
  },
  {
   "cell_type": "markdown",
   "metadata": {},
   "source": [
    "### List down cases which were incorrectly tagged by original POS tagger and got corrected by your modifications"
   ]
  },
  {
   "cell_type": "code",
   "execution_count": 895,
   "metadata": {},
   "outputs": [
    {
     "name": "stdout",
     "output_type": "stream",
     "text": [
      "[('Android', 'PRON'), ('is', 'VERB'), ('a', 'DET'), ('mobile', 'ADJ'), ('operating', 'NOUN'), ('system', 'NOUN'), ('developed', 'VERB'), ('by', 'ADP'), ('Google', 'PRON'), ('.', '.')]\n",
      "[('Android', 'PRON'), ('has', 'VERB'), ('been', 'VERB'), ('the', 'DET'), ('best-selling', 'ADJ'), ('OS', 'PRON'), ('worldwide', 'PRON'), ('on', 'ADP'), ('smartphones', 'PRON'), ('since', 'ADP'), ('2011', 'PRON'), ('and', 'CONJ'), ('on', 'ADP'), ('tablets', 'PRON'), ('since', 'ADP'), ('2013', 'PRON'), ('.', '.')]\n",
      "[('Google', 'PRON'), ('and', 'CONJ'), ('Twitter', 'PRON'), ('made', 'VERB'), ('a', 'DET'), ('deal', 'NOUN'), ('in', 'ADP'), ('2015', 'PRON'), ('that', 'ADP'), ('gave', 'VERB'), ('Google', 'PRON'), ('access', 'NOUN'), ('to', 'PRT'), ('Twitter', 'PRON'), (\"'s\", 'VERB'), ('firehose', 'PRON'), ('.', '.')]\n",
      "[('Twitter', 'PRON'), ('is', 'VERB'), ('an', 'DET'), ('online', 'PRON'), ('news', 'NOUN'), ('and', 'CONJ'), ('social', 'ADJ'), ('networking', 'NOUN'), ('service', 'NOUN'), ('on', 'ADP'), ('which', 'DET'), ('users', 'NOUN'), ('post', 'NOUN'), ('and', 'CONJ'), ('interact', 'PRON'), ('with', 'ADP'), ('messages', 'PRON'), ('known', 'VERB'), ('as', 'ADP'), ('tweets', 'PRON'), ('.', '.')]\n",
      "[('Before', 'ADP'), ('entering', 'VERB'), ('politics', 'NOUN'), (',', '.'), ('Donald', 'NOUN'), ('Trump', 'NOUN'), ('was', 'VERB'), ('a', 'DET'), ('domineering', 'PRON'), ('businessman', 'NOUN'), ('and', 'CONJ'), ('a', 'DET'), ('television', 'NOUN'), ('personality', 'PRON'), ('.', '.')]\n",
      "[('The', 'DET'), ('2018', 'PRON'), ('FIFA', 'PRON'), ('World', 'NOUN'), ('Cup', 'PRON'), ('is', 'VERB'), ('the', 'DET'), ('21st', 'PRON'), ('FIFA', 'PRON'), ('World', 'NOUN'), ('Cup', 'PRON'), (',', '.'), ('an', 'DET'), ('international', 'ADJ'), ('football', 'NOUN'), ('tournament', 'PRON'), ('contested', 'PRON'), ('once', 'ADV'), ('every', 'DET'), ('four', 'NUM'), ('years', 'NOUN'), ('.', '.')]\n",
      "[('This', 'DET'), ('is', 'VERB'), ('the', 'DET'), ('first', 'ADJ'), ('World', 'NOUN'), ('Cup', 'PRON'), ('to', 'PRT'), ('be', 'VERB'), ('held', 'VERB'), ('in', 'ADP'), ('Eastern', 'NOUN'), ('Europe', 'NOUN'), ('and', 'CONJ'), ('the', 'DET'), ('11th', 'ADJ'), ('time', 'NOUN'), ('that', 'ADP'), ('it', 'PRON'), ('has', 'VERB'), ('been', 'VERB'), ('held', 'VERB'), ('in', 'ADP'), ('Europe', 'NOUN'), ('.', '.')]\n",
      "[('Show', 'NOUN'), ('me', 'PRON'), ('the', 'DET'), ('cheapest', 'ADJ'), ('round', 'NOUN'), ('trips', 'PRON'), ('from', 'ADP'), ('Dallas', 'NOUN'), ('to', 'PRT'), ('Atlanta', 'NOUN')]\n",
      "[('I', 'PRON'), ('would', 'VERB'), ('like', 'ADP'), ('to', 'PRT'), ('see', 'VERB'), ('flights', 'NOUN'), ('from', 'ADP'), ('Denver', 'NOUN'), ('to', 'PRT'), ('Philadelphia', 'NOUN'), ('.', '.')]\n",
      "[('Show', 'NOUN'), ('me', 'PRON'), ('the', 'DET'), ('price', 'NOUN'), ('of', 'ADP'), ('the', 'DET'), ('flights', 'NOUN'), ('leaving', 'VERB'), ('Atlanta', 'NOUN'), ('at', 'ADP'), ('about', 'ADP'), ('3', 'NUM'), ('in', 'ADP'), ('the', 'DET'), ('afternoon', 'NOUN'), ('and', 'CONJ'), ('arriving', 'PRON'), ('in', 'ADP'), ('San', 'NOUN'), ('Francisco', 'NOUN'), ('.', '.')]\n",
      "[('NASA', 'PRON'), ('invited', 'PRON'), ('social', 'ADJ'), ('media', 'NOUN'), ('users', 'NOUN'), ('to', 'PRT'), ('experience', 'NOUN'), ('the', 'DET'), ('launch', 'NOUN'), ('of', 'ADP'), ('ICESAT-2', 'PRON'), ('Satellite', 'PRON'), ('.', '.')]\n"
     ]
    }
   ],
   "source": [
    "#Let's print the test string with the original Viterbi algorithm\n",
    "for line in test_string:\n",
    "    print(list(Viterbi(word_tokenize(line))))"
   ]
  },
  {
   "cell_type": "code",
   "execution_count": 896,
   "metadata": {},
   "outputs": [
    {
     "name": "stdout",
     "output_type": "stream",
     "text": [
      "[('Android', 'NOUN'), ('is', 'VERB'), ('a', 'DET'), ('mobile', 'ADJ'), ('operating', 'NOUN'), ('system', 'NOUN'), ('developed', 'VERB'), ('by', 'ADP'), ('Google', 'NOUN'), ('.', '.')]\n",
      "[('Android', 'NOUN'), ('has', 'VERB'), ('been', 'VERB'), ('the', 'DET'), ('best-selling', 'ADJ'), ('OS', 'NOUN'), ('worldwide', 'NOUN'), ('on', 'ADP'), ('smartphones', 'VERB'), ('since', 'ADP'), ('2011', 'NUM'), ('and', 'CONJ'), ('on', 'ADP'), ('tablets', 'NOUN'), ('since', 'ADP'), ('2013', 'NUM'), ('.', '.')]\n",
      "[('Google', 'NOUN'), ('and', 'CONJ'), ('Twitter', 'NOUN'), ('made', 'VERB'), ('a', 'DET'), ('deal', 'NOUN'), ('in', 'ADP'), ('2015', 'NUM'), ('that', 'ADP'), ('gave', 'VERB'), ('Google', 'NOUN'), ('access', 'NOUN'), ('to', 'PRT'), ('Twitter', 'NOUN'), (\"'s\", 'PRT'), ('firehose', 'NOUN'), ('.', '.')]\n",
      "[('Twitter', 'NOUN'), ('is', 'VERB'), ('an', 'DET'), ('online', 'NOUN'), ('news', 'NOUN'), ('and', 'CONJ'), ('social', 'ADJ'), ('networking', 'NOUN'), ('service', 'NOUN'), ('on', 'ADP'), ('which', 'DET'), ('users', 'NOUN'), ('post', 'NOUN'), ('and', 'CONJ'), ('interact', 'NOUN'), ('with', 'ADP'), ('messages', 'VERB'), ('known', 'VERB'), ('as', 'ADP'), ('tweets', 'NOUN'), ('.', '.')]\n",
      "[('Before', 'ADP'), ('entering', 'VERB'), ('politics', 'NOUN'), (',', '.'), ('Donald', 'NOUN'), ('Trump', 'NOUN'), ('was', 'VERB'), ('a', 'DET'), ('domineering', 'VERB'), ('businessman', 'NOUN'), ('and', 'CONJ'), ('a', 'DET'), ('television', 'NOUN'), ('personality', 'NOUN'), ('.', '.')]\n",
      "[('The', 'DET'), ('2018', 'NUM'), ('FIFA', 'NOUN'), ('World', 'NOUN'), ('Cup', 'NOUN'), ('is', 'VERB'), ('the', 'DET'), ('21st', 'NOUN'), ('FIFA', 'NOUN'), ('World', 'NOUN'), ('Cup', 'NOUN'), (',', '.'), ('an', 'DET'), ('international', 'ADJ'), ('football', 'NOUN'), ('tournament', 'NOUN'), ('contested', 'VERB'), ('once', 'ADV'), ('every', 'DET'), ('four', 'NUM'), ('years', 'NOUN'), ('.', '.')]\n",
      "[('This', 'DET'), ('is', 'VERB'), ('the', 'DET'), ('first', 'ADJ'), ('World', 'NOUN'), ('Cup', 'NOUN'), ('to', 'PRT'), ('be', 'VERB'), ('held', 'VERB'), ('in', 'ADP'), ('Eastern', 'NOUN'), ('Europe', 'NOUN'), ('and', 'CONJ'), ('the', 'DET'), ('11th', 'ADJ'), ('time', 'NOUN'), ('that', 'ADP'), ('it', 'PRON'), ('has', 'VERB'), ('been', 'VERB'), ('held', 'VERB'), ('in', 'ADP'), ('Europe', 'NOUN'), ('.', '.')]\n",
      "[('Show', 'NOUN'), ('me', 'PRON'), ('the', 'DET'), ('cheapest', 'ADJ'), ('round', 'NOUN'), ('trips', 'NOUN'), ('from', 'ADP'), ('Dallas', 'NOUN'), ('to', 'PRT'), ('Atlanta', 'NOUN')]\n",
      "[('I', 'PRON'), ('would', 'VERB'), ('like', 'ADP'), ('to', 'PRT'), ('see', 'VERB'), ('flights', 'NOUN'), ('from', 'ADP'), ('Denver', 'NOUN'), ('to', 'PRT'), ('Philadelphia', 'NOUN'), ('.', '.')]\n",
      "[('Show', 'NOUN'), ('me', 'PRON'), ('the', 'DET'), ('price', 'NOUN'), ('of', 'ADP'), ('the', 'DET'), ('flights', 'NOUN'), ('leaving', 'VERB'), ('Atlanta', 'NOUN'), ('at', 'ADP'), ('about', 'ADP'), ('3', 'NUM'), ('in', 'ADP'), ('the', 'DET'), ('afternoon', 'NOUN'), ('and', 'CONJ'), ('arriving', 'VERB'), ('in', 'ADP'), ('San', 'NOUN'), ('Francisco', 'NOUN'), ('.', '.')]\n",
      "[('NASA', 'NOUN'), ('invited', 'VERB'), ('social', 'ADJ'), ('media', 'NOUN'), ('users', 'NOUN'), ('to', 'PRT'), ('experience', 'NOUN'), ('the', 'DET'), ('launch', 'NOUN'), ('of', 'ADP'), ('ICESAT-2', 'NOUN'), ('Satellite', 'NOUN'), ('.', '.')]\n"
     ]
    }
   ],
   "source": [
    "#Let's print the test string with the updated Viterbi algorithm\n",
    "for line in test_string:\n",
    "    print(list(Viterbi_updated(word_tokenize(line))))"
   ]
  },
  {
   "cell_type": "markdown",
   "metadata": {},
   "source": [
    "#### Results\n",
    "- Here Android, Google are unknown word incorrectly tagged in the original viterbi algorithm. In the updated viterbi algorithm they are correctly classified as 'NOUN'.\n",
    "- 2011, 2015 are unknown word, incorrectly tagged in the orginal viterbi algorithm. In the updated viterbi algorithm they are correctly classified as 'NUM' as cardinal numbers.\n",
    "- NASA, ICESAT-2 are unknown word incorrectly tagged in the orignal viterbi algorithm. In the updated viterbi algorithm they are correctly classified as 'NOUN'\n",
    "- Domineering and messages are unknown word incorrectly tagged in the original viterbi algorithm. In the updated viterbi algorithm they are correctly tagged as 'VERB'"
   ]
  },
  {
   "cell_type": "markdown",
   "metadata": {},
   "source": [
    "### 2. Combine viterbi with rule based tagging"
   ]
  },
  {
   "cell_type": "code",
   "execution_count": 897,
   "metadata": {},
   "outputs": [],
   "source": [
    "def rule_based_tagger(word):\n",
    "\n",
    "    # define regular expression patterns\n",
    "    patterns = [\n",
    "        (r'.*(ing|ed|es|ould)$', 'VERB'),\n",
    "        (r'.*\\'s$', 'NOUN'),\n",
    "        (r'.*s$', 'NOUN'),\n",
    "        (r'^[A-Z]+.*$', 'NOUN'),\n",
    "        (r'^-?[0-9]+(.[0-9]+)?-?(.*)?$', 'NUM'),\n",
    "        (r'.*', 'NOUN')  # nouns (default)\n",
    "    ]\n",
    "\n",
    "    # using nltk.RegexpTagger\n",
    "    regexp_tagger = nltk.RegexpTagger(patterns)\n",
    "    regex_tag = regexp_tagger.tag([word])\n",
    "    \n",
    "    return regex_tag[0][1]"
   ]
  },
  {
   "cell_type": "code",
   "execution_count": 898,
   "metadata": {},
   "outputs": [],
   "source": [
    "def Viterbi_With_Regex(words, train_bag = train_tag_words):\n",
    "    state = []\n",
    "    T = list(set([pair[1] for pair in train_bag]))\n",
    "    \n",
    "    for key, word in enumerate(words):\n",
    "        #initialise list of probability column for a given observation\n",
    "        p = [] \n",
    "        for tag in T:\n",
    "            if key == 0:\n",
    "                transition_p = tags_df.loc['.', tag]\n",
    "            else:\n",
    "                try:\n",
    "                    transition_p = tags_df.loc[state[-1], tag]\n",
    "                except:\n",
    "                    transition_p = 0 # no previous state is found.\n",
    "                \n",
    "            # compute emission and state probabilities\n",
    "            emission_p = word_given_tag(words[key], tag)[0]/word_given_tag(words[key], tag)[1]\n",
    "            state_probability = emission_p * transition_p    \n",
    "            p.append(state_probability)\n",
    "            \n",
    "        pmax = max(p)\n",
    "        if pmax == 0.0 :\n",
    "            #If state probability is zero i.e if the word is unknown it updates the tag based on the rule-based\n",
    "            state_max = rule_based_tagger(word)\n",
    "        else:\n",
    "            # getting state for which probability is maximum\n",
    "            state_max = T[p.index(pmax)] \n",
    "\n",
    "        state.append(state_max)\n",
    "    return list(zip(words, state))"
   ]
  },
  {
   "cell_type": "code",
   "execution_count": 899,
   "metadata": {},
   "outputs": [],
   "source": [
    "# validation_set\n",
    "# Let's test our Viterbi algorithm on a few sample sentences of validation set\n",
    "random.seed(1234)\n",
    "\n",
    "# choose random 10 sents\n",
    "rndom2 = [random.randint(1,len(val_set)) for x in range(10)]#change range to 5.\n",
    "\n",
    "# list of sents\n",
    "test_run2 = [val_set[i] for i in rndom]\n",
    "\n",
    "# list of tagged words\n",
    "test_run_base2 = [tup for sent in test_run2 for tup in sent]\n",
    "\n",
    "# list of untagged words\n",
    "test_tag_words2 = [tup[0] for sent in test_run2 for tup in sent]"
   ]
  },
  {
   "cell_type": "code",
   "execution_count": 900,
   "metadata": {},
   "outputs": [],
   "source": [
    "# tagging the test sentences with the updated Viterbi algorithm\n",
    "start = time.time()\n",
    "updated_tagged_seq2 = Viterbi_With_Regex(test_tag_words2)\n",
    "end = time.time()\n",
    "difference = end-start"
   ]
  },
  {
   "cell_type": "code",
   "execution_count": 901,
   "metadata": {},
   "outputs": [
    {
     "name": "stdout",
     "output_type": "stream",
     "text": [
      "83.70660972595215\n"
     ]
    }
   ],
   "source": [
    "#Print total time taken to train the algorithm\n",
    "print(difference)"
   ]
  },
  {
   "cell_type": "markdown",
   "metadata": {},
   "source": [
    "##### Accuracy for the updated Viterbi with rule-based algorithm"
   ]
  },
  {
   "cell_type": "code",
   "execution_count": 902,
   "metadata": {},
   "outputs": [
    {
     "data": {
      "text/plain": [
       "0.951417004048583"
      ]
     },
     "execution_count": 902,
     "metadata": {},
     "output_type": "execute_result"
    }
   ],
   "source": [
    "#Calculate the accuracy for the updated Viterbi with rule-based algorithm\n",
    "check = [i for i, j in zip(updated_tagged_seq2, test_run_base2) if i == j] \n",
    "accuracy = len(check)/len(updated_tagged_seq2)\n",
    "accuracy"
   ]
  },
  {
   "cell_type": "markdown",
   "metadata": {},
   "source": [
    "#### Compare incorrectly tagged by original POS Tagger and got correctly by modify POS tagger using rule-based tagger"
   ]
  },
  {
   "cell_type": "code",
   "execution_count": 903,
   "metadata": {},
   "outputs": [
    {
     "name": "stdout",
     "output_type": "stream",
     "text": [
      "[('Android', 'PRON'), ('is', 'VERB'), ('a', 'DET'), ('mobile', 'ADJ'), ('operating', 'NOUN'), ('system', 'NOUN'), ('developed', 'VERB'), ('by', 'ADP'), ('Google', 'PRON'), ('.', '.')]\n",
      "[('Android', 'PRON'), ('has', 'VERB'), ('been', 'VERB'), ('the', 'DET'), ('best-selling', 'ADJ'), ('OS', 'PRON'), ('worldwide', 'PRON'), ('on', 'ADP'), ('smartphones', 'PRON'), ('since', 'ADP'), ('2011', 'PRON'), ('and', 'CONJ'), ('on', 'ADP'), ('tablets', 'PRON'), ('since', 'ADP'), ('2013', 'PRON'), ('.', '.')]\n",
      "[('Google', 'PRON'), ('and', 'CONJ'), ('Twitter', 'PRON'), ('made', 'VERB'), ('a', 'DET'), ('deal', 'NOUN'), ('in', 'ADP'), ('2015', 'PRON'), ('that', 'ADP'), ('gave', 'VERB'), ('Google', 'PRON'), ('access', 'NOUN'), ('to', 'PRT'), ('Twitter', 'PRON'), (\"'s\", 'VERB'), ('firehose', 'PRON'), ('.', '.')]\n",
      "[('Twitter', 'PRON'), ('is', 'VERB'), ('an', 'DET'), ('online', 'PRON'), ('news', 'NOUN'), ('and', 'CONJ'), ('social', 'ADJ'), ('networking', 'NOUN'), ('service', 'NOUN'), ('on', 'ADP'), ('which', 'DET'), ('users', 'NOUN'), ('post', 'NOUN'), ('and', 'CONJ'), ('interact', 'PRON'), ('with', 'ADP'), ('messages', 'PRON'), ('known', 'VERB'), ('as', 'ADP'), ('tweets', 'PRON'), ('.', '.')]\n",
      "[('Before', 'ADP'), ('entering', 'VERB'), ('politics', 'NOUN'), (',', '.'), ('Donald', 'NOUN'), ('Trump', 'NOUN'), ('was', 'VERB'), ('a', 'DET'), ('domineering', 'PRON'), ('businessman', 'NOUN'), ('and', 'CONJ'), ('a', 'DET'), ('television', 'NOUN'), ('personality', 'PRON'), ('.', '.')]\n",
      "[('The', 'DET'), ('2018', 'PRON'), ('FIFA', 'PRON'), ('World', 'NOUN'), ('Cup', 'PRON'), ('is', 'VERB'), ('the', 'DET'), ('21st', 'PRON'), ('FIFA', 'PRON'), ('World', 'NOUN'), ('Cup', 'PRON'), (',', '.'), ('an', 'DET'), ('international', 'ADJ'), ('football', 'NOUN'), ('tournament', 'PRON'), ('contested', 'PRON'), ('once', 'ADV'), ('every', 'DET'), ('four', 'NUM'), ('years', 'NOUN'), ('.', '.')]\n",
      "[('This', 'DET'), ('is', 'VERB'), ('the', 'DET'), ('first', 'ADJ'), ('World', 'NOUN'), ('Cup', 'PRON'), ('to', 'PRT'), ('be', 'VERB'), ('held', 'VERB'), ('in', 'ADP'), ('Eastern', 'NOUN'), ('Europe', 'NOUN'), ('and', 'CONJ'), ('the', 'DET'), ('11th', 'ADJ'), ('time', 'NOUN'), ('that', 'ADP'), ('it', 'PRON'), ('has', 'VERB'), ('been', 'VERB'), ('held', 'VERB'), ('in', 'ADP'), ('Europe', 'NOUN'), ('.', '.')]\n",
      "[('Show', 'NOUN'), ('me', 'PRON'), ('the', 'DET'), ('cheapest', 'ADJ'), ('round', 'NOUN'), ('trips', 'PRON'), ('from', 'ADP'), ('Dallas', 'NOUN'), ('to', 'PRT'), ('Atlanta', 'NOUN')]\n",
      "[('I', 'PRON'), ('would', 'VERB'), ('like', 'ADP'), ('to', 'PRT'), ('see', 'VERB'), ('flights', 'NOUN'), ('from', 'ADP'), ('Denver', 'NOUN'), ('to', 'PRT'), ('Philadelphia', 'NOUN'), ('.', '.')]\n",
      "[('Show', 'NOUN'), ('me', 'PRON'), ('the', 'DET'), ('price', 'NOUN'), ('of', 'ADP'), ('the', 'DET'), ('flights', 'NOUN'), ('leaving', 'VERB'), ('Atlanta', 'NOUN'), ('at', 'ADP'), ('about', 'ADP'), ('3', 'NUM'), ('in', 'ADP'), ('the', 'DET'), ('afternoon', 'NOUN'), ('and', 'CONJ'), ('arriving', 'PRON'), ('in', 'ADP'), ('San', 'NOUN'), ('Francisco', 'NOUN'), ('.', '.')]\n",
      "[('NASA', 'PRON'), ('invited', 'PRON'), ('social', 'ADJ'), ('media', 'NOUN'), ('users', 'NOUN'), ('to', 'PRT'), ('experience', 'NOUN'), ('the', 'DET'), ('launch', 'NOUN'), ('of', 'ADP'), ('ICESAT-2', 'PRON'), ('Satellite', 'PRON'), ('.', '.')]\n"
     ]
    }
   ],
   "source": [
    "#Let's print the test string with the original Viterbi algorithm\n",
    "for line in test_string:\n",
    "    print(list(Viterbi(word_tokenize(line))))"
   ]
  },
  {
   "cell_type": "code",
   "execution_count": 904,
   "metadata": {},
   "outputs": [
    {
     "name": "stdout",
     "output_type": "stream",
     "text": [
      "[('Android', 'NOUN'), ('is', 'VERB'), ('a', 'DET'), ('mobile', 'ADJ'), ('operating', 'NOUN'), ('system', 'NOUN'), ('developed', 'VERB'), ('by', 'ADP'), ('Google', 'NOUN'), ('.', '.')]\n",
      "[('Android', 'NOUN'), ('has', 'VERB'), ('been', 'VERB'), ('the', 'DET'), ('best-selling', 'ADJ'), ('OS', 'NOUN'), ('worldwide', 'NOUN'), ('on', 'ADP'), ('smartphones', 'VERB'), ('since', 'ADP'), ('2011', 'NUM'), ('and', 'CONJ'), ('on', 'ADP'), ('tablets', 'NOUN'), ('since', 'ADP'), ('2013', 'NUM'), ('.', '.')]\n",
      "[('Google', 'NOUN'), ('and', 'CONJ'), ('Twitter', 'NOUN'), ('made', 'VERB'), ('a', 'DET'), ('deal', 'NOUN'), ('in', 'ADP'), ('2015', 'NUM'), ('that', 'ADP'), ('gave', 'VERB'), ('Google', 'NOUN'), ('access', 'NOUN'), ('to', 'PRT'), ('Twitter', 'NOUN'), (\"'s\", 'PRT'), ('firehose', 'NOUN'), ('.', '.')]\n",
      "[('Twitter', 'NOUN'), ('is', 'VERB'), ('an', 'DET'), ('online', 'NOUN'), ('news', 'NOUN'), ('and', 'CONJ'), ('social', 'ADJ'), ('networking', 'NOUN'), ('service', 'NOUN'), ('on', 'ADP'), ('which', 'DET'), ('users', 'NOUN'), ('post', 'NOUN'), ('and', 'CONJ'), ('interact', 'NOUN'), ('with', 'ADP'), ('messages', 'VERB'), ('known', 'VERB'), ('as', 'ADP'), ('tweets', 'NOUN'), ('.', '.')]\n",
      "[('Before', 'ADP'), ('entering', 'VERB'), ('politics', 'NOUN'), (',', '.'), ('Donald', 'NOUN'), ('Trump', 'NOUN'), ('was', 'VERB'), ('a', 'DET'), ('domineering', 'VERB'), ('businessman', 'NOUN'), ('and', 'CONJ'), ('a', 'DET'), ('television', 'NOUN'), ('personality', 'NOUN'), ('.', '.')]\n",
      "[('The', 'DET'), ('2018', 'NUM'), ('FIFA', 'NOUN'), ('World', 'NOUN'), ('Cup', 'NOUN'), ('is', 'VERB'), ('the', 'DET'), ('21st', 'NUM'), ('FIFA', 'NOUN'), ('World', 'NOUN'), ('Cup', 'NOUN'), (',', '.'), ('an', 'DET'), ('international', 'ADJ'), ('football', 'NOUN'), ('tournament', 'NOUN'), ('contested', 'VERB'), ('once', 'ADV'), ('every', 'DET'), ('four', 'NUM'), ('years', 'NOUN'), ('.', '.')]\n",
      "[('This', 'DET'), ('is', 'VERB'), ('the', 'DET'), ('first', 'ADJ'), ('World', 'NOUN'), ('Cup', 'NOUN'), ('to', 'PRT'), ('be', 'VERB'), ('held', 'VERB'), ('in', 'ADP'), ('Eastern', 'NOUN'), ('Europe', 'NOUN'), ('and', 'CONJ'), ('the', 'DET'), ('11th', 'ADJ'), ('time', 'NOUN'), ('that', 'ADP'), ('it', 'PRON'), ('has', 'VERB'), ('been', 'VERB'), ('held', 'VERB'), ('in', 'ADP'), ('Europe', 'NOUN'), ('.', '.')]\n",
      "[('Show', 'NOUN'), ('me', 'PRON'), ('the', 'DET'), ('cheapest', 'ADJ'), ('round', 'NOUN'), ('trips', 'NOUN'), ('from', 'ADP'), ('Dallas', 'NOUN'), ('to', 'PRT'), ('Atlanta', 'NOUN')]\n",
      "[('I', 'PRON'), ('would', 'VERB'), ('like', 'ADP'), ('to', 'PRT'), ('see', 'VERB'), ('flights', 'NOUN'), ('from', 'ADP'), ('Denver', 'NOUN'), ('to', 'PRT'), ('Philadelphia', 'NOUN'), ('.', '.')]\n",
      "[('Show', 'NOUN'), ('me', 'PRON'), ('the', 'DET'), ('price', 'NOUN'), ('of', 'ADP'), ('the', 'DET'), ('flights', 'NOUN'), ('leaving', 'VERB'), ('Atlanta', 'NOUN'), ('at', 'ADP'), ('about', 'ADP'), ('3', 'NUM'), ('in', 'ADP'), ('the', 'DET'), ('afternoon', 'NOUN'), ('and', 'CONJ'), ('arriving', 'VERB'), ('in', 'ADP'), ('San', 'NOUN'), ('Francisco', 'NOUN'), ('.', '.')]\n",
      "[('NASA', 'NOUN'), ('invited', 'VERB'), ('social', 'ADJ'), ('media', 'NOUN'), ('users', 'NOUN'), ('to', 'PRT'), ('experience', 'NOUN'), ('the', 'DET'), ('launch', 'NOUN'), ('of', 'ADP'), ('ICESAT-2', 'NOUN'), ('Satellite', 'NOUN'), ('.', '.')]\n"
     ]
    }
   ],
   "source": [
    "#checking updated regex algorithm on Sample test set\n",
    "for line in test_string:\n",
    "    print(list(Viterbi_With_Regex(word_tokenize(line))))"
   ]
  },
  {
   "cell_type": "markdown",
   "metadata": {},
   "source": [
    "### Results :\n",
    "- Android and Google are correctly updated as NOUN.\n",
    "- 2011, 2013, 2015 are correctly updated as NUM.\n",
    "- Message, Domineering are correctly updated as VERB."
   ]
  },
  {
   "cell_type": "code",
   "execution_count": null,
   "metadata": {},
   "outputs": [],
   "source": []
  }
 ],
 "metadata": {
  "kernelspec": {
   "display_name": "Python 3",
   "language": "python",
   "name": "python3"
  },
  "language_info": {
   "codemirror_mode": {
    "name": "ipython",
    "version": 3
   },
   "file_extension": ".py",
   "mimetype": "text/x-python",
   "name": "python",
   "nbconvert_exporter": "python",
   "pygments_lexer": "ipython3",
   "version": "3.7.4"
  }
 },
 "nbformat": 4,
 "nbformat_minor": 2
}
